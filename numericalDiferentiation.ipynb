{
 "cells": [
  {
   "metadata": {},
   "cell_type": "markdown",
   "source": [
    "Sources: \n",
    "1. https://claudiovz.github.io/metodos_numericos_I/diferenciacion/diferenciacion002.html\n",
    "2. Numerical Methods Chapra"
   ],
   "id": "a6e468e164fdb673"
  },
  {
   "metadata": {},
   "cell_type": "markdown",
   "source": "# Numerical differentiation schemes with taylor series",
   "id": "40c424bb30be8a13"
  },
  {
   "metadata": {},
   "cell_type": "markdown",
   "source": [
    "## Original taylor series\n",
    "\n",
    "$$\n",
    "\\begin{equation}\n",
    "    f(x) = \\sum_{n=0}^{\\infty} \\frac{f^{(n)}(a)}{n!} (x - a)^{n}\n",
    "\\tag{1}\n",
    "\\end{equation}\n",
    "$$"
   ],
   "id": "adbb54a613ae9649"
  },
  {
   "metadata": {},
   "cell_type": "markdown",
   "source": [
    "### Forward expansion $x_i + h$\n",
    "$$\n",
    "\\begin{equation*}\n",
    "    f(x) = f(a) + f'(a) (x - a) + \\frac{1}{2} f''(a) (x - a)^{2} + \\frac{1}{6} f'''(a) (x - a)^{3} + \\cdots \n",
    "\\end{equation*}\n",
    "$$"
   ],
   "id": "77800e1aacabc846"
  },
  {
   "metadata": {},
   "cell_type": "markdown",
   "source": [
    "Using a change of variable: $a = x - h$, $h = x - a$\n",
    "$$\n",
    "\\begin{equation*}\n",
    "    f(x) = f(x - h) + f'(x - h) h + \\frac{1}{2} f''(x - h) h^{2} + \\frac{1}{6} f'''(x - h) h^{3} + \\cdots\n",
    "\\end{equation*}\n",
    "$$"
   ],
   "id": "542bb615b04658b6"
  },
  {
   "metadata": {},
   "cell_type": "markdown",
   "source": [
    "Using another change of variable $x = x_i$, and $x_{i-1} = x_i - h$\n",
    "\n",
    "$$\n",
    "\\begin{equation*}\n",
    "    f(x_{i}) = f(x_{i-1}) + f'(x_{i-1}) h + \\frac{1}{2} f''(x_{i-1}) h^{2} + \\frac{1}{6} f'''(x_{i-1}) h^{3} + \\cdots\n",
    "\\end{equation*}\n",
    "$$"
   ],
   "id": "153d67ec55d0cb4"
  },
  {
   "metadata": {},
   "cell_type": "markdown",
   "source": [
    "Advancing indices, with $i = i + 1$, $x_{i+1} = x_i + h$\n",
    "\\begin{equation}\n",
    "    f(x_{i+1}) = f(x_{i}) + f'(x_{i}) h + \\frac{1}{2} f''(x_{i}) h^{2} + \\frac{1}{6} f'''(x_{i}) h^{3} + \\cdots\n",
    "\\tag{2}\n",
    "\\end{equation}\n"
   ],
   "id": "5d5374706f09cc9b"
  },
  {
   "metadata": {},
   "cell_type": "markdown",
   "source": [
    "### Backward expansion $x_i - h$\n",
    "\n",
    "With $x_i - h = x_{i-h}$\n",
    "\n",
    "$$\n",
    "\\begin{equation*}\n",
    "    f(x_{i} - h) = f(x_{i}) (-h)^{0} + f'(x_{i}) (-h)^{1} + \\frac{1}{2} f''(x_{i}) (-h)^{2} + \\frac{1}{6} f'''(x_{i}) (-h)^{3} + \\cdots\n",
    "\\end{equation*}\n",
    "$$\n",
    "\n",
    "$$\n",
    "\\begin{equation}\n",
    "    f(x_{i-1}) = f(x_{i}) - f'(x_{i}) h + \\frac{1}{2} f''(x_{i}) h^{2} - \\frac{1}{6} f'''(x_{i}) h^{3} + \\cdots\n",
    "\\tag{3}\n",
    "\\end{equation}\n",
    "$$"
   ],
   "id": "8d38d46d1da623db"
  },
  {
   "metadata": {},
   "cell_type": "markdown",
   "source": [
    "### First forward difference\n",
    "\n",
    "Taking count the first two terms of the taylor forward expanded series\n",
    "\n",
    "$$\n",
    "\\begin{equation}\n",
    "    f(x_{i+1}) = f(x_{i}) + f'(x_{i}) h + R_1\n",
    "\\end{equation}\n",
    "$$\n",
    "\n",
    "Solving for $f'(x_i)$\n",
    "\n",
    "$$\n",
    "\\begin{equation}\n",
    "    f'(x_{i}) = \\frac{f(x_{i+1}) - f(x_{i})}{h} - \\frac{R_1}{h} \n",
    "\\end{equation}\n",
    "\\tag{4}\n",
    "$$"
   ],
   "id": "303b653095aad243"
  },
  {
   "metadata": {},
   "cell_type": "markdown",
   "source": [
    "The residual of a first order expansion $R_1$ can be calculated with the lagrange form of the residual:\n",
    "\n",
    "$$\n",
    "\\begin{equation} R_n = \\frac{f^{(n-1)}(\\xi)}{(n+1)!} h^{n+1} \\end{equation}\n",
    "$$\n",
    "\n",
    "$$\n",
    "\\begin{equation} R_1 = \\frac{f^{(2)}(\\xi)}{2} h^{2} = \\frac{f''(\\xi)}{2} h^{2} \\end{equation}\n",
    "$$\n",
    "\n",
    "Using $O$ notation the term $\\frac{R_1}{h}$ can be expressed as\n",
    "\n",
    "$$\n",
    "\\begin{equation} \\frac{R_1}{h} = \\frac{f''(\\xi)}{2} h = O(h)  \\end{equation}\n",
    "$$\n",
    "\n",
    "With all the Eq. 4 is commonly expressed as\n",
    "\n",
    "$$\n",
    "\\begin{equation}\n",
    "    f'(x_{i}) = \\frac{f(x_{i+1}) - f(x_{i})}{h} + O(h) = \\frac{\\Delta f_i}{h} + O(h)\n",
    "\\end{equation}\n",
    "\\tag{5}\n",
    "$$\n",
    "\n",
    "Where $\\Delta f_i$ is known as the `first forward difference` and $O(h)$ means that the error in the derivative approximation should be proportional to the size of the increment (h). If h is divided in half, the error in the derivative estimation should be reduced by half."
   ],
   "id": "722558aa2d331a45"
  },
  {
   "metadata": {},
   "cell_type": "code",
   "outputs": [],
   "execution_count": null,
   "source": [
    "def g(x):\n",
    "    result = "
   ],
   "id": "509494e990cb683"
  },
  {
   "metadata": {},
   "cell_type": "markdown",
   "source": "",
   "id": "e05286acbbe14a06"
  }
 ],
 "metadata": {
  "kernelspec": {
   "display_name": "Python 3",
   "language": "python",
   "name": "python3"
  },
  "language_info": {
   "codemirror_mode": {
    "name": "ipython",
    "version": 2
   },
   "file_extension": ".py",
   "mimetype": "text/x-python",
   "name": "python",
   "nbconvert_exporter": "python",
   "pygments_lexer": "ipython2",
   "version": "2.7.6"
  }
 },
 "nbformat": 4,
 "nbformat_minor": 5
}
