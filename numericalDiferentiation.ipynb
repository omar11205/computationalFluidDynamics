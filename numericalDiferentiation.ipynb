{
 "cells": [
  {
   "metadata": {},
   "cell_type": "markdown",
   "source": "Source: https://claudiovz.github.io/metodos_numericos_I/diferenciacion/diferenciacion002.html",
   "id": "a6e468e164fdb673"
  },
  {
   "metadata": {},
   "cell_type": "markdown",
   "source": "# Numerical differentiation schemes with taylor series",
   "id": "40c424bb30be8a13"
  },
  {
   "metadata": {},
   "cell_type": "markdown",
   "source": [
    "## Original taylor series\n",
    "\n",
    "$$\n",
    "\\begin{equation}\n",
    "    f(x) = \\sum_{n=0}^{\\infty} \\frac{f^{(n)}(a)}{n!} (x - a)^{n}\n",
    "\\tag{1}\n",
    "\\end{equation}\n",
    "$$"
   ],
   "id": "adbb54a613ae9649"
  },
  {
   "metadata": {},
   "cell_type": "markdown",
   "source": [
    "### Forward expansion\n",
    "$$\n",
    "\\begin{equation*}\n",
    "    f(x) = f(a) + f'(a) (x - a) + \\frac{1}{2} f''(a) (x - a)^{2} + \\frac{1}{6} f'''(a) (x - a)^{3} + \\cdots \\tag{2}\n",
    "\\end{equation*}\n",
    "$$"
   ],
   "id": "77800e1aacabc846"
  },
  {
   "metadata": {},
   "cell_type": "markdown",
   "source": [
    "Using a change of variable: $x-a = h$\n",
    "$$\n",
    "\\begin{equation*}\n",
    "    f(x) = f(x - h) + f'(x - h) h + \\frac{1}{2} f''(x - h) h^{2} + \\frac{1}{6} f'''(x - h) h^{3} + \\cdots\n",
    "\\end{equation*}\n",
    "$$"
   ],
   "id": "542bb615b04658b6"
  },
  {
   "metadata": {},
   "cell_type": "markdown",
   "source": "",
   "id": "153d67ec55d0cb4"
  }
 ],
 "metadata": {
  "kernelspec": {
   "display_name": "Python 3",
   "language": "python",
   "name": "python3"
  },
  "language_info": {
   "codemirror_mode": {
    "name": "ipython",
    "version": 2
   },
   "file_extension": ".py",
   "mimetype": "text/x-python",
   "name": "python",
   "nbconvert_exporter": "python",
   "pygments_lexer": "ipython2",
   "version": "2.7.6"
  }
 },
 "nbformat": 4,
 "nbformat_minor": 5
}
