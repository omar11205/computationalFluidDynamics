{
 "cells": [
  {
   "metadata": {},
   "cell_type": "markdown",
   "source": [
    "Sources: \n",
    "1. https://claudiovz.github.io/metodos_numericos_I/diferenciacion/diferenciacion002.html\n",
    "2. Numerical Methods Chapra"
   ],
   "id": "a6e468e164fdb673"
  },
  {
   "metadata": {},
   "cell_type": "markdown",
   "source": [
    "# Numerical differentiation schemes with taylor series\n",
    "\n",
    "## Original taylor series\n",
    "\n",
    "$$\n",
    "\\begin{equation}\n",
    "    f(x) = \\sum_{n=0}^{\\infty} \\frac{f^{(n)}(a)}{n!} (x - a)^{n}\n",
    "\\tag{1}\n",
    "\\end{equation}\n",
    "$$\n",
    "\n",
    "### Forward expansion $x_i + h$\n",
    "$$\n",
    "\\begin{equation*}\n",
    "    f(x) = f(a) + f'(a) (x - a) + \\frac{1}{2} f''(a) (x - a)^{2} + \\frac{1}{6} f'''(a) (x - a)^{3} + \\cdots \n",
    "\\end{equation*}\n",
    "$$\n",
    "\n",
    "Using a change of variable: $a = x - h$, $h = x - a$\n",
    "$$\n",
    "\\begin{equation*}\n",
    "    f(x) = f(x - h) + f'(x - h) h + \\frac{1}{2} f''(x - h) h^{2} + \\frac{1}{6} f'''(x - h) h^{3} + \\cdots\n",
    "\\end{equation*}\n",
    "$$\n",
    "\n",
    "Using another change of variable $x = x_i$, and $x_{i-1} = x_i - h$\n",
    "\n",
    "$$\n",
    "\\begin{equation*}\n",
    "    f(x_{i}) = f(x_{i-1}) + f'(x_{i-1}) h + \\frac{1}{2} f''(x_{i-1}) h^{2} + \\frac{1}{6} f'''(x_{i-1}) h^{3} + \\cdots\n",
    "\\end{equation*}\n",
    "$$\n",
    "\n",
    "Advancing indices, with $i = i + 1$, $x_{i+1} = x_i + h$\n",
    "\\begin{equation}\n",
    "    f(x_{i+1}) = f(x_{i}) + f'(x_{i}) h + \\frac{1}{2} f''(x_{i}) h^{2} + \\frac{1}{6} f'''(x_{i}) h^{3} + \\cdots\n",
    "\\tag{2}\n",
    "\\end{equation}\n",
    "\n",
    "### Backward expansion $x_i - h$\n",
    "\n",
    "With $x_i - h = x_{i-h}$\n",
    "\n",
    "$$\n",
    "\\begin{equation*}\n",
    "    f(x_{i} - h) = f(x_{i}) (-h)^{0} + f'(x_{i}) (-h)^{1} + \\frac{1}{2} f''(x_{i}) (-h)^{2} + \\frac{1}{6} f'''(x_{i}) (-h)^{3} + \\cdots\n",
    "\\end{equation*}\n",
    "$$\n",
    "\n",
    "$$\n",
    "\\begin{equation}\n",
    "    f(x_{i-1}) = f(x_{i}) - f'(x_{i}) h + \\frac{1}{2} f''(x_{i}) h^{2} - \\frac{1}{6} f'''(x_{i}) h^{3} + \\cdots\n",
    "\\tag{3}\n",
    "\\end{equation}\n",
    "$$"
   ],
   "id": "40c424bb30be8a13"
  },
  {
   "metadata": {},
   "cell_type": "markdown",
   "source": [
    "### First forward difference\n",
    "\n",
    "Taking count the first two terms of the taylor forward expanded series\n",
    "\n",
    "$$\n",
    "\\begin{equation}\n",
    "    f(x_{i+1}) = f(x_{i}) + f'(x_{i}) h + R_1\n",
    "\\end{equation}\n",
    "$$\n",
    "\n",
    "Solving for $f'(x_i)$\n",
    "\n",
    "$$\n",
    "\\begin{equation}\n",
    "    f'(x_{i}) = \\frac{f(x_{i+1}) - f(x_{i})}{h} - \\frac{R_1}{h} \n",
    "\\end{equation}\n",
    "\\tag{4}\n",
    "$$\n",
    "\n",
    "The residual of a first order expansion $R_1$ can be calculated with the lagrange form of the residual:\n",
    "\n",
    "$$\n",
    "\\begin{equation} R_n = \\frac{f^{(n-1)}(\\xi)}{(n+1)!} h^{n+1} \\end{equation}\n",
    "$$\n",
    "\n",
    "$$\n",
    "\\begin{equation} R_1 = \\frac{f^{(2)}(\\xi)}{2} h^{2} = \\frac{f''(\\xi)}{2} h^{2} \\end{equation}\n",
    "$$\n",
    "\n",
    "Using $O$ notation the term $\\frac{R_1}{h}$ can be expressed as\n",
    "\n",
    "$$\n",
    "\\begin{equation} \\frac{R_1}{h} = \\frac{f''(\\xi)}{2} h = O(h)  \\end{equation}\n",
    "$$\n",
    "\n",
    "With all the Eq. 4 is commonly expressed as\n",
    "\n",
    "$$\n",
    "\\begin{equation}\n",
    "    f'(x_{i}) = \\frac{f(x_{i+1}) - f(x_{i})}{h} + O(h) = \\frac{\\Delta f_i}{h} + O(h)\n",
    "\\end{equation}\n",
    "\\tag{5}\n",
    "$$\n",
    "\n",
    "Where $\\Delta f_i$ is known as the `first forward difference` and $O(h)$ means that the error in the derivative approximation should be proportional to the size of the increment (h). If h is divided in half, the error in the derivative estimation should be reduced by half."
   ],
   "id": "303b653095aad243"
  },
  {
   "metadata": {
    "ExecuteTime": {
     "end_time": "2024-07-02T15:24:23.497443Z",
     "start_time": "2024-07-02T15:24:23.492351Z"
    }
   },
   "cell_type": "code",
   "source": [
    "def g(x):\n",
    "    result = -0.1*x**4+0.2*x**3+0.3*x**2+0.2*x+1\n",
    "    return result\n",
    "\n",
    "def first_forward_d(f, x, h):\n",
    "    derivative = (f(x+h) - f(x))/h\n",
    "    return derivative\n",
    "\n",
    "print(\"g\\'(0.5) forward = \", first_forward_d(g, 0.5, 0.25))"
   ],
   "id": "509494e990cb683",
   "outputs": [
    {
     "name": "stdout",
     "output_type": "stream",
     "text": [
      "g'(0.5) forward =  0.7109375\n"
     ]
    }
   ],
   "execution_count": 1
  },
  {
   "metadata": {},
   "cell_type": "markdown",
   "source": [
    "### First backward difference\n",
    "\n",
    "Taking count the first two terms of the taylor forward expanded series\n",
    "\n",
    "$$\n",
    "\\begin{equation}\n",
    "    f(x_{i-1}) = f(x_{i}) - f'(x_{i}) h + R_1\n",
    "\\end{equation}\n",
    "$$\n",
    "\n",
    "$$\n",
    "\\begin{equation}\n",
    "    f'(x_{i}) = \\frac{f(x_{i}) - f(x_{i-1})}{h}\n",
    "\\end{equation}\n",
    "$$\n",
    "\n",
    "$$\n",
    "\\begin{equation}\n",
    "    f'(x_{i}) = \\frac{f(x_{i}) - f(x_{i-1})}{h} + O(h) = \\frac{\\nabla f_i}{h} + O(h)\n",
    "\\end{equation}\n",
    "\\tag{6}\n",
    "$$\n",
    "\n",
    "Where $\\nabla f_i$ is known as first backward difference."
   ],
   "id": "e05286acbbe14a06"
  },
  {
   "metadata": {
    "ExecuteTime": {
     "end_time": "2024-07-02T15:24:23.500812Z",
     "start_time": "2024-07-02T15:24:23.498449Z"
    }
   },
   "cell_type": "code",
   "source": [
    "def first_backward_d(f, x, h):\n",
    "    derivative = (f(x) - f(x-h))/h\n",
    "    return derivative\n",
    "\n",
    "print(\"g\\'(0.5) backward = \", first_backward_d(g, 0.5, 0.25))"
   ],
   "id": "efc358e0aedf8078",
   "outputs": [
    {
     "name": "stdout",
     "output_type": "stream",
     "text": [
      "g'(0.5) backward =  0.4890625000000002\n"
     ]
    }
   ],
   "execution_count": 2
  },
  {
   "metadata": {},
   "cell_type": "markdown",
   "source": [
    "### First central difference\n",
    "\n",
    "Using tree terms of the taylor forward expanded series\n",
    "\n",
    "$$\n",
    "\\begin{equation}\n",
    "    f(x_{i+1}) \\approx f(x_{i}) + f'(x_{i}) h + \\frac{1}{2} f''(x_{i}) h^{2} \\tag{7}\n",
    "\\end{equation}\n",
    "$$\n",
    "\n",
    "and tree terms of the taylor backward expanded series\n",
    "\n",
    "$$\n",
    "\\begin{equation}\n",
    "    f(x_{i-1}) \\approx f(x_{i}) - f'(x_{i}) h + \\frac{1}{2} f''(x_{i}) h^{2} \\tag{8}\n",
    "\\end{equation}\n",
    "$$\n",
    "\n",
    "substracting equation $7$ from $8$\n",
    "\n",
    "$$\n",
    "\\begin{equation*}\n",
    "    f(x_{i+1}) - f(x_{i-1}) \\approx 2 f'(x_{i}) h\n",
    "\\end{equation*}\n",
    "$$\n",
    "\n",
    "solving for the first derivative \n",
    "\n",
    "$$\n",
    "\\begin{equation}\n",
    "    f'(x_{i}) = \\frac{f(x_{i+1}) - f(x_{i-1})}{2 h} \\tag{9} \n",
    "\\end{equation}\n",
    "$$\n",
    "\n",
    "in terms of the forward and backward difference Eq. (9)\n",
    "\n",
    "$$\n",
    "\\begin{equation*}\n",
    "    f'(x_{i}) = \\frac{\\frac{f(x_{i+1}) - f(x_{i})}{h} + \\frac{f(x_{i}) - f(x_{i-1})}{h}}{2}\n",
    "\\end{equation*}\n",
    "$$"
   ],
   "id": "cc4c91798af059fb"
  },
  {
   "metadata": {},
   "cell_type": "code",
   "outputs": [],
   "execution_count": null,
   "source": [
    "def first_central_d(f, x, h):\n",
    "    derivative = (first_forward_d(f, x, h) + first_backward_d(f, x, h))/2\n",
    "    return derivative\n",
    "\n",
    "print(\"g\\'(0.5) central = \", first_central_d(g, 0.5, 0.25))"
   ],
   "id": "ef4ee1a837422ba1"
  }
 ],
 "metadata": {
  "kernelspec": {
   "display_name": "Python 3",
   "language": "python",
   "name": "python3"
  },
  "language_info": {
   "codemirror_mode": {
    "name": "ipython",
    "version": 2
   },
   "file_extension": ".py",
   "mimetype": "text/x-python",
   "name": "python",
   "nbconvert_exporter": "python",
   "pygments_lexer": "ipython2",
   "version": "2.7.6"
  }
 },
 "nbformat": 4,
 "nbformat_minor": 5
}
