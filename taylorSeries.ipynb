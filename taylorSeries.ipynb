{
 "cells": [
  {
   "metadata": {},
   "cell_type": "markdown",
   "source": [
    "Knowing a near value or initial interval $x_{i}$ the value of a function $f$ in a certain value $x_{i+1}$, $f(x_{i+1})$ can be approximated using the taylor series: \n",
    "\n",
    "$$ \\begin{equation}\n",
    "f(x_{i+1}) = \\sum_{n=0}^{\\infty} \\frac{f^{(n)}(x_i)}{n!} (x_{i+1} - x_i)^n\n",
    "\\end{equation} $$"
   ],
   "id": "1f83543b204e8c10"
  },
  {
   "metadata": {
    "ExecuteTime": {
     "end_time": "2024-06-16T22:27:47.595683Z",
     "start_time": "2024-06-16T22:27:47.585609Z"
    }
   },
   "cell_type": "code",
   "source": [
    "from sympy import diff, symbols, factorial, exp, pretty_print, cos, sin, pi, N\n",
    "class Taylor(object):\n",
    "    \"\"\"Only works importing individual methods of the sympy package\"\"\"\n",
    "    def __init__(self, x, func, n, x_i, x_i1):\n",
    "        \"\"\"\n",
    "        Taylor's approximation\n",
    "        the independent variable name, as string :param x:\n",
    "        the sympy function to approximate :param func:\n",
    "        number of taylor polynomials, as integer :param n: \n",
    "        closer value to x_i1 for the taylor approximation f(x_i) < f(x_i1) :param x_i: \n",
    "        independent value to approximate  :param x_i1:  \n",
    "        \"\"\"\n",
    "        self.x = x\n",
    "        self.func = func\n",
    "        self.n = n + 1\n",
    "        self.x_i = x_i\n",
    "        self.x_i1 = x_i1\n",
    "        self.error = 0\n",
    "        self.err_str = ''\n",
    "        # for the first term of the series: f(a)\n",
    "        # substitute the value of 'x' with 'x_i'\n",
    "        self.result = func.subs(self.x, self.x_i)\n",
    "        \n",
    "    def taylor_approx(self):\n",
    "        \"\"\"Returns a scypy obj of the taylor approximation\"\"\"\n",
    "        if self.n == 1:\n",
    "            self.error = ((self.func.subs(self.x, self.x_i1) - self.result)/self.func.subs(self.x, self.x_i1))*100\n",
    "            self.err_str = f'Estimating {self.func} when x = {self.x_i1} with n = {self.n - 1}, the relative percentual error is: {N(self.error)} %'\n",
    "            return self.result\n",
    "        \n",
    "        if self.n > 1:\n",
    "            for i in range (1, self.n):\n",
    "                self.result += diff(self.func, self.x, i).subs(self.x, self.x_i)*((self.x-self.x_i)**i).subs(self.x, self.x_i1) / factorial(i)\n",
    "            \n",
    "            self.error = ((self.func.subs(self.x, self.x_i1) - self.result)/self.func.subs(self.x, self.x_i1))*100\n",
    "            \n",
    "            self.err_str = f'Estimating {self.func} when x = {self.x_i1} with n = {self.n - 1}, the relative percentual error is: {N(self.error)} %'\n",
    "            return self.result\n",
    "            \n",
    "    def taylor_error_summary(self):\n",
    "        \"\"\"Returns a summary of the taylor approximation error\"\"\"\n",
    "        if self.n == 1:\n",
    "            print(self.err_str)\n",
    "            self.err_str = ''\n",
    "        \n",
    "        if self.n > 1:\n",
    "            print(self.err_str)\n",
    "            self.err_str = ''\n",
    "    \n",
    "    def taylor_error(self):\n",
    "        \"\"\"Returns a scypy obj with the relative percentual error of the taylor approximation\"\"\"\n",
    "        if self.n == 1:\n",
    "            return self.error\n",
    "        \n",
    "        if self.n > 1:\n",
    "            return self.error\n"
   ],
   "id": "f2d41cefbc7d1330",
   "outputs": [],
   "execution_count": 23
  },
  {
   "metadata": {
    "ExecuteTime": {
     "end_time": "2024-06-16T22:30:12.234481Z",
     "start_time": "2024-06-16T22:30:12.223373Z"
    }
   },
   "cell_type": "code",
   "source": [
    "x = symbols('x')\n",
    "sin_tay = Taylor(x, sin(x), 4, pi/4, pi/3)\n",
    "result = sin_tay.taylor_approx()\n",
    "error = sin_tay.taylor_error()\n",
    "print(N(result))\n",
    "print(N(error))"
   ],
   "id": "ea52ab9c014ff67c",
   "outputs": [
    {
     "name": "stdout",
     "output_type": "stream",
     "text": [
      "0.866018484603905\n",
      "0.000798958148705373\n"
     ]
    }
   ],
   "execution_count": 31
  },
  {
   "metadata": {
    "ExecuteTime": {
     "end_time": "2024-06-16T21:25:00.814497Z",
     "start_time": "2024-06-16T21:25:00.802175Z"
    }
   },
   "cell_type": "code",
   "source": "",
   "id": "9fb05db9d1a65c21",
   "outputs": [
    {
     "name": "stdout",
     "output_type": "stream",
     "text": [
      "  √2⋅π   √2\n",
      "- ──── + ──\n",
      "   24    2 \n",
      "0.521986658763282\n",
      "Estimating cos(x) when x = pi/3 with n = 1, the relative percentual error is: -4.39733175265645 %\n"
     ]
    }
   ],
   "execution_count": 7
  },
  {
   "metadata": {},
   "cell_type": "code",
   "outputs": [],
   "execution_count": null,
   "source": "",
   "id": "5555a7f5e4585926"
  }
 ],
 "metadata": {
  "kernelspec": {
   "display_name": "Python 3",
   "language": "python",
   "name": "python3"
  },
  "language_info": {
   "codemirror_mode": {
    "name": "ipython",
    "version": 2
   },
   "file_extension": ".py",
   "mimetype": "text/x-python",
   "name": "python",
   "nbconvert_exporter": "python",
   "pygments_lexer": "ipython2",
   "version": "2.7.6"
  }
 },
 "nbformat": 4,
 "nbformat_minor": 5
}
