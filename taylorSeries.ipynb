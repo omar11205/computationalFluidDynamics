{
 "cells": [
  {
   "metadata": {
    "ExecuteTime": {
     "end_time": "2024-06-16T22:03:24.075668Z",
     "start_time": "2024-06-16T22:03:24.066592Z"
    }
   },
   "cell_type": "code",
   "source": [
    "from sympy import diff, symbols, factorial, exp, pretty_print, cos, sin, pi, N\n",
    "class Taylor(object):\n",
    "    def __init__(self, x, func, n, x_i, x_i1):\n",
    "        \"\"\"\n",
    "        Taylor's approximation\n",
    "        \n",
    "        the independent variable name, as string :param x:\n",
    "        \n",
    "        the sympy function to approximate :param func:\n",
    "        \n",
    "        number of taylor polynomials, as integer :param n: \n",
    "        \n",
    "        closer value to x_i1 for the taylor approximation f(x_i) < f(x_i1) :param x_i: \n",
    "        \n",
    "        independent value to approximate  :param x_i1:  \n",
    "        \"\"\"\n",
    "        self.x = x\n",
    "        self.func = func\n",
    "        self.n = n + 1\n",
    "        self.x_i = x_i\n",
    "        self.x_i1 = x_i1\n",
    "        self.error = 0\n",
    "        self.err_str = ''\n",
    "        # for the first term of the series: f(a)\n",
    "        # substitute the value of 'x' with 'x_i'\n",
    "        self.result = func.subs(self.x, self.x_i)\n",
    "        \n",
    "    def taylor_approx(self):\n",
    "        \n",
    "        if self.n == 1:\n",
    "            self.error = ((self.func.subs(self.x, self.x_i1) - self.result)/self.func.subs(self.x, self.x_i1))*100\n",
    "            self.err_str = f'Estimating {self.func} when x = {self.x_i1} with n = {n-1}, the relative percentual error is: {N(self.error)} %'\n",
    "            return self.result\n",
    "        \n",
    "        elif self.n > 1:\n",
    "            for i in range (1, n):\n",
    "                self.result += diff(self.func, self.x, i).subs(self.x, self.x_i)*((self.x-self.x_i)**i).subs(self.x, self.x_i1) / factorial(i)\n",
    "            \n",
    "            self.error = ((self.func.subs(self.x, self.x_i1) - self.result)/self.func.subs(self.x, self.x_i1))*100\n",
    "            \n",
    "            self.err_str = f'Estimating {self.func} when x = {self.x_i1} with n = {n-1}, the relative percentual error is: {N(self.error)} %'\n",
    "            return self.result\n",
    "            \n",
    "    def taylor_error(self):\n",
    "        if self.n == 1:\n",
    "            print(self.err_str)\n",
    "        \n",
    "        elif self.n > 1:\n",
    "            print(self.err_str)\n",
    "        \n"
   ],
   "id": "f2d41cefbc7d1330",
   "outputs": [],
   "execution_count": 16
  },
  {
   "metadata": {
    "ExecuteTime": {
     "end_time": "2024-06-16T22:03:27.137424Z",
     "start_time": "2024-06-16T22:03:27.131969Z"
    }
   },
   "cell_type": "code",
   "source": [
    "x = symbols('x')\n",
    "cos_tay = Taylor(x, cos(x), 1, pi/4, pi/3)\n",
    "result = cos_tay.taylor_approx()\n",
    "cos_tay.taylor_error()"
   ],
   "id": "10dc55622b816a3b",
   "outputs": [
    {
     "name": "stdout",
     "output_type": "stream",
     "text": [
      "Estimating cos(x) when x = pi/3 with n = 1, the relative percentual error is: -4.39733175265645 %\n"
     ]
    }
   ],
   "execution_count": 17
  },
  {
   "metadata": {
    "ExecuteTime": {
     "end_time": "2024-06-16T21:25:00.814497Z",
     "start_time": "2024-06-16T21:25:00.802175Z"
    }
   },
   "cell_type": "code",
   "source": [
    "x = symbols('x')\n",
    "func = cos(x)\n",
    "n = 2\n",
    "x_i = pi/4\n",
    "x_i1 = pi/3\n",
    "\n",
    "\n",
    "result = func.subs(x, x_i)\n",
    "# adding 5 + 1 terms in the series\n",
    "for i in range (1, n):\n",
    "    result += diff(func, x, i).subs(x, x_i)*((x-x_i)**i).subs(x, x_i1) / factorial(i)\n",
    "\n",
    "error = ((func.subs(x, x_i1) - result)/func.subs(x, x_i1))*100\n",
    "\n",
    "pretty_print(result)\n",
    "print(N(result))\n",
    "print(f'Estimating {func} when x = {x_i1} with n = {n-1}, the relative percentual error is: {N(error)} %')"
   ],
   "id": "9fb05db9d1a65c21",
   "outputs": [
    {
     "name": "stdout",
     "output_type": "stream",
     "text": [
      "  √2⋅π   √2\n",
      "- ──── + ──\n",
      "   24    2 \n",
      "0.521986658763282\n",
      "Estimating cos(x) when x = pi/3 with n = 1, the relative percentual error is: -4.39733175265645 %\n"
     ]
    }
   ],
   "execution_count": 7
  },
  {
   "metadata": {},
   "cell_type": "code",
   "outputs": [],
   "execution_count": null,
   "source": "",
   "id": "5555a7f5e4585926"
  }
 ],
 "metadata": {
  "kernelspec": {
   "display_name": "Python 3",
   "language": "python",
   "name": "python3"
  },
  "language_info": {
   "codemirror_mode": {
    "name": "ipython",
    "version": 2
   },
   "file_extension": ".py",
   "mimetype": "text/x-python",
   "name": "python",
   "nbconvert_exporter": "python",
   "pygments_lexer": "ipython2",
   "version": "2.7.6"
  }
 },
 "nbformat": 4,
 "nbformat_minor": 5
}
