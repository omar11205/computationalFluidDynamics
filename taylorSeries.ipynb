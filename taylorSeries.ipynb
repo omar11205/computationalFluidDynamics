{
 "cells": [
  {
   "metadata": {},
   "cell_type": "markdown",
   "source": [
    "Around a value $x_{i}$ the value of a function $f(x)$ in a certain near value $x_{i+1}$, $f(x_{i+1})$ can be approximated using the taylor series: \n",
    "\n",
    "$$ \\begin{equation}\n",
    "f(x_{i+1}) = \\sum_{n=0}^{\\infty} \\frac{f^{(n)}(x_i)}{n!} (x_{i+1} - x_i)^n\n",
    "\\end{equation} $$"
   ],
   "id": "1f83543b204e8c10"
  },
  {
   "metadata": {
    "ExecuteTime": {
     "end_time": "2024-06-17T21:48:18.360416Z",
     "start_time": "2024-06-17T21:48:17.880656Z"
    }
   },
   "cell_type": "code",
   "source": "from sympy import diff, symbols, factorial, exp, pretty_print, cos, sin, pi, N",
   "id": "cbe8c591275d5d59",
   "outputs": [],
   "execution_count": 2
  },
  {
   "metadata": {
    "ExecuteTime": {
     "end_time": "2024-06-16T23:35:49.545898Z",
     "start_time": "2024-06-16T23:35:49.538240Z"
    }
   },
   "cell_type": "code",
   "source": [
    "x = symbols('x')\n",
    "func = cos(x)\n",
    "n = 2\n",
    "x_i = pi/4\n",
    "x_i1 = pi/3\n",
    "\n",
    "\n",
    "result = func.subs(x, x_i)\n",
    "# adding 5 + 1 terms in the series\n",
    "for i in range (1, n):\n",
    "    result += diff(func, x, i).subs(x, x_i)*((x-x_i)**i).subs(x, x_i1) / factorial(i)\n",
    "\n",
    "error = ((func.subs(x, x_i1) - result)/func.subs(x, x_i1))*100\n",
    "\n",
    "pretty_print(result)\n",
    "print(N(result))\n",
    "print(f'Estimating {func} when x = {x_i1} with n = {n-1}, the relative percentual error is: {N(error)} %')"
   ],
   "id": "d7a8ddba53fdc58a",
   "outputs": [
    {
     "name": "stdout",
     "output_type": "stream",
     "text": [
      "  √2⋅π   √2\n",
      "- ──── + ──\n",
      "   24    2 \n",
      "0.521986658763282\n",
      "Estimating cos(x) when x = pi/3 with n = 1, the relative percentual error is: -4.39733175265645 %\n"
     ]
    }
   ],
   "execution_count": 33
  },
  {
   "metadata": {
    "ExecuteTime": {
     "end_time": "2024-06-16T23:35:55.746627Z",
     "start_time": "2024-06-16T23:35:55.740211Z"
    }
   },
   "cell_type": "code",
   "source": [
    "class Taylor(object):\n",
    "    \"\"\"Only works importing individual methods of the sympy package\"\"\"\n",
    "    def __init__(self, x, func, n, x_i, x_i1):\n",
    "        \"\"\"\n",
    "        Taylor's approximation\n",
    "        the independent variable name, as string :param x:\n",
    "        the sympy function to approximate :param func:\n",
    "        number of taylor polynomials, as integer :param n: \n",
    "        closer value to x_i1 for the taylor approximation f(x_i) < f(x_i1) :param x_i: \n",
    "        independent value to approximate  :param x_i1:  \n",
    "        \"\"\"\n",
    "        self.x = x\n",
    "        self.func = func\n",
    "        self.n = n + 1\n",
    "        self.x_i = x_i\n",
    "        self.x_i1 = x_i1\n",
    "        self.error = 0\n",
    "        self.err_str = ''\n",
    "        # for the first term of the series: f(a)\n",
    "        # substitute the value of 'x' with 'x_i'\n",
    "        self.result = func.subs(self.x, self.x_i)\n",
    "        \n",
    "    def taylor_approx(self):\n",
    "        \"\"\"Returns a scypy obj of the taylor approximation\"\"\"\n",
    "        if self.n == 1:\n",
    "            self.error = ((self.func.subs(self.x, self.x_i1) - self.result)/self.func.subs(self.x, self.x_i1))*100\n",
    "            self.err_str = f'Estimating {self.func} when x = {self.x_i1} with n = {self.n - 1}, the relative percentual error is: {N(self.error)} %'\n",
    "            return self.result\n",
    "        \n",
    "        if self.n > 1:\n",
    "            for i in range (1, self.n):\n",
    "                self.result += diff(self.func, self.x, i).subs(self.x, self.x_i)*((self.x-self.x_i)**i).subs(self.x, self.x_i1) / factorial(i)\n",
    "            \n",
    "            self.error = ((self.func.subs(self.x, self.x_i1) - self.result)/self.func.subs(self.x, self.x_i1))*100\n",
    "            \n",
    "            self.err_str = f'Estimating {self.func} when x = {self.x_i1} with n = {self.n - 1}, the relative percentual error is: {N(self.error)} %'\n",
    "            return self.result\n",
    "            \n",
    "    def taylor_error_summary(self):\n",
    "        \"\"\"Returns a summary of the taylor approximation error\"\"\"\n",
    "        if self.n == 1:\n",
    "            print(self.err_str)\n",
    "            self.err_str = ''\n",
    "        \n",
    "        if self.n > 1:\n",
    "            print(self.err_str)\n",
    "            self.err_str = ''\n",
    "    \n",
    "    def taylor_error(self):\n",
    "        \"\"\"Returns a scypy obj with the relative percentual error of the taylor approximation\"\"\"\n",
    "        if self.n == 1:\n",
    "            return self.error\n",
    "        \n",
    "        if self.n > 1:\n",
    "            return self.error\n"
   ],
   "id": "f2d41cefbc7d1330",
   "outputs": [],
   "execution_count": 35
  },
  {
   "metadata": {
    "ExecuteTime": {
     "end_time": "2024-06-16T23:38:05.028658Z",
     "start_time": "2024-06-16T23:38:05.018288Z"
    }
   },
   "cell_type": "code",
   "source": [
    "x = symbols('x')\n",
    "sin_tay = Taylor(x, x**3, 3, 0.4, 0.8)\n",
    "result = sin_tay.taylor_approx()\n",
    "error = sin_tay.taylor_error()\n",
    "print(N(result))\n",
    "print(N(error))"
   ],
   "id": "ea52ab9c014ff67c",
   "outputs": [
    {
     "name": "stdout",
     "output_type": "stream",
     "text": [
      "0.512000000000000\n",
      "0\n"
     ]
    }
   ],
   "execution_count": 39
  },
  {
   "metadata": {
    "ExecuteTime": {
     "end_time": "2024-06-17T20:04:11.285300Z",
     "start_time": "2024-06-17T20:04:11.278827Z"
    }
   },
   "cell_type": "code",
   "source": [
    "24*5\n",
    "    "
   ],
   "id": "339ceb65458dea2c",
   "outputs": [
    {
     "data": {
      "text/plain": [
       "120"
      ]
     },
     "execution_count": 1,
     "metadata": {},
     "output_type": "execute_result"
    }
   ],
   "execution_count": 1
  },
  {
   "metadata": {
    "ExecuteTime": {
     "end_time": "2024-06-17T21:48:33.982528Z",
     "start_time": "2024-06-17T21:48:33.977748Z"
    }
   },
   "cell_type": "code",
   "source": "exp(0.5)",
   "id": "79799c041dcee22",
   "outputs": [
    {
     "data": {
      "text/plain": [
       "1.64872127070013"
      ],
      "text/latex": "$\\displaystyle 1.64872127070013$"
     },
     "execution_count": 3,
     "metadata": {},
     "output_type": "execute_result"
    }
   ],
   "execution_count": 3
  },
  {
   "metadata": {},
   "cell_type": "code",
   "outputs": [],
   "execution_count": null,
   "source": "",
   "id": "7d0ca7f0cf55bf1a"
  }
 ],
 "metadata": {
  "kernelspec": {
   "display_name": "Python 3",
   "language": "python",
   "name": "python3"
  },
  "language_info": {
   "codemirror_mode": {
    "name": "ipython",
    "version": 2
   },
   "file_extension": ".py",
   "mimetype": "text/x-python",
   "name": "python",
   "nbconvert_exporter": "python",
   "pygments_lexer": "ipython2",
   "version": "2.7.6"
  }
 },
 "nbformat": 4,
 "nbformat_minor": 5
}
