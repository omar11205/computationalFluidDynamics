{
 "cells": [
  {
   "cell_type": "code",
   "id": "initial_id",
   "metadata": {
    "collapsed": true,
    "ExecuteTime": {
     "end_time": "2024-06-16T17:55:11.931813Z",
     "start_time": "2024-06-16T17:55:11.928423Z"
    }
   },
   "source": [
    "from sympy import diff, symbols, factorial, exp, pretty_print, cos, sin, pi, N\n",
    "import numpy \n",
    "import math"
   ],
   "outputs": [],
   "execution_count": 18
  },
  {
   "metadata": {
    "ExecuteTime": {
     "end_time": "2024-06-16T18:35:55.367749Z",
     "start_time": "2024-06-16T18:35:55.358380Z"
    }
   },
   "cell_type": "code",
   "source": [
    "x = symbols('x')\n",
    "func = cos(x)\n",
    "n = 4\n",
    "x_i = pi/4\n",
    "x_i1 = pi/3\n",
    "\n",
    "# for the first term of the series: f(a)\n",
    "# substitute the value of 'x' with 'x0'\n",
    "result = func.subs(x, x_i)\n",
    "# adding 5 + 1 terms in the series\n",
    "for i in range (1, n):\n",
    "    result += diff(func, x, i).subs(x, x_i)*((x-x_i)**i).subs(x, x_i1) / factorial(i)\n",
    "\n",
    "error = ((func.subs(x, x_i1) - result)/func.subs(x, x_i1))*100\n",
    "\n",
    "pretty_print(result)\n",
    "print(N(result))\n",
    "print(f'Estimating {func} when x = {x_i1} with n = {n-1}, the relative percentual error is: {N(error)} %')"
   ],
   "id": "f2d41cefbc7d1330",
   "outputs": [
    {
     "name": "stdout",
     "output_type": "stream",
     "text": [
      "             2       3     \n",
      "  √2⋅π   √2⋅π    √2⋅π    √2\n",
      "- ──── - ───── + ───── + ──\n",
      "   24     576    20736   2 \n",
      "0.499869146930044\n",
      "Estimating cos(x) when x = pi/3 with n = 3, the relative percentual error is: 0.0261706139911812\n"
     ]
    }
   ],
   "execution_count": 33
  },
  {
   "metadata": {},
   "cell_type": "code",
   "outputs": [],
   "execution_count": null,
   "source": "",
   "id": "9fb05db9d1a65c21"
  }
 ],
 "metadata": {
  "kernelspec": {
   "display_name": "Python 3",
   "language": "python",
   "name": "python3"
  },
  "language_info": {
   "codemirror_mode": {
    "name": "ipython",
    "version": 2
   },
   "file_extension": ".py",
   "mimetype": "text/x-python",
   "name": "python",
   "nbconvert_exporter": "python",
   "pygments_lexer": "ipython2",
   "version": "2.7.6"
  }
 },
 "nbformat": 4,
 "nbformat_minor": 5
}
