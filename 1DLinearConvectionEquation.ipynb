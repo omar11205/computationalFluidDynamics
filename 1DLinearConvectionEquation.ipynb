{
 "cells": [
  {
   "metadata": {},
   "cell_type": "markdown",
   "source": [
    "CFD Sources: \n",
    "1. https://github.com/emhayki/CFD-Fundamental/blob/main/CFD-Fundamental-Guide.pdf\n",
    "2. https://github.com/barbagroup/CFDPython/blob/master/lessons/01_Step_1.ipynb\n",
    "\n",
    "\n",
    "Theory sources: \n",
    "3. https://www.math.toronto.edu/jko/APM346_summary_2_2020.pdf\n",
    "4. https://youtu.be/ec7L8wRABy4"
   ],
   "id": "944c6a973388a009"
  },
  {
   "metadata": {},
   "cell_type": "markdown",
   "source": "## Analysis, derivation and discretization of the 1D-Linear Convection Equation",
   "id": "8a9bb841b6bc5bd4"
  },
  {
   "metadata": {
    "ExecuteTime": {
     "end_time": "2024-06-19T20:38:34.515183Z",
     "start_time": "2024-06-19T20:38:34.512444Z"
    }
   },
   "cell_type": "code",
   "source": "from IPython.display import Image",
   "id": "a12f94421e81b995",
   "outputs": [],
   "execution_count": 140
  },
  {
   "metadata": {},
   "cell_type": "markdown",
   "source": [
    "$$\n",
    "\\begin{eqnarray}\n",
    "    \\rho \\left( \\frac{\\partial u}{\\partial t} + u \\frac{\\partial u}{\\partial x} + v \\frac{\\partial u}{\\partial y} + w \\frac{\\partial u}{\\partial z} \\right) = -\\frac{\\partial p}{\\partial x} + \\mu \\left( \\frac{\\partial^2 u}{\\partial x^2} + \\frac{\\partial^2 u}{\\partial y^2} + \\frac{\\partial^2 u}{\\partial z^2} \\right) + f_x \\\\\n",
    "    \\rho \\left( \\frac{\\partial v}{\\partial t} + u \\frac{\\partial v}{\\partial x} + v \\frac{\\partial v}{\\partial y} + w \\frac{\\partial v}{\\partial z} \\right) = -\\frac{\\partial p}{\\partial y} + \\mu \\left( \\frac{\\partial^2 v}{\\partial x^2} + \\frac{\\partial^2 v}{\\partial y^2} + \\frac{\\partial^2 v}{\\partial z^2} \\right) + f_y \\\\\n",
    "    \\rho \\left( \\frac{\\partial w}{\\partial t} + u \\frac{\\partial w}{\\partial x} + v \\frac{\\partial w}{\\partial y} + w \\frac{\\partial w}{\\partial z} \\right) = -\\frac{\\partial p}{\\partial z} + \\mu \\left( \\frac{\\partial^2 w}{\\partial x^2} + \\frac{\\partial^2 w}{\\partial y^2} + \\frac{\\partial^2 w}{\\partial z^2} \\right) + f_z\n",
    "\\end{eqnarray}\n",
    "$$\n",
    "\n",
    "Eq. (1) is the equation for the $x$ direction, Eq. (2) for the $y$ direction, and Eq (3) for the $z$ direction\n",
    "\n",
    "Where: $\\rho$ is the fluid density\n",
    "\n",
    " ,$\\mu$ is the dynamic viscosity\n",
    "\n",
    " ,$p$ is the pressure\n",
    "\n",
    " ,$u, v, w$ are the velocity components in the $x, y, z$ directions, respectively\n",
    "\n",
    " ,$f_x, f_y, f_z$ are the body force components in the $x, y, z$ directions, respectively"
   ],
   "id": "25bd57044a80337c"
  },
  {
   "metadata": {},
   "cell_type": "markdown",
   "source": [
    "Derivation of the 1-D non-linear convection equation, and it's linearization assumming a 'constant velocity' $c$ of wave like propagation. \n",
    "\n",
    "Assumming invicid flow, no presure gradient and no body force in the x direction Eq(1) becomes:"
   ],
   "id": "7a7dc46e3765054f"
  },
  {
   "metadata": {
    "ExecuteTime": {
     "end_time": "2024-06-19T20:38:34.530004Z",
     "start_time": "2024-06-19T20:38:34.526190Z"
    }
   },
   "cell_type": "code",
   "source": "Image(\"images/simplified_ns.png\")",
   "id": "d03dfe6b8126b120",
   "outputs": [
    {
     "data": {
      "image/png": "[encoded data removed]",
      "text/plain": [
       "<IPython.core.display.Image object>"
      ]
     },
     "execution_count": 141,
     "metadata": {},
     "output_type": "execute_result"
    }
   ],
   "execution_count": 141
  },
  {
   "metadata": {},
   "cell_type": "markdown",
   "source": [
    "$$\n",
    "\\frac{\\partial u}{\\partial t} + u \\frac{\\partial u}{\\partial x} = 0 \\tag{4}\n",
    "$$\n",
    "\n",
    "Eq. 4 is still a non-linear equation. To linearize it we consider $u$ to be constant, then $u = c$  \n",
    "\n",
    "The result is the 1D linear transport equation:\n",
    "\n",
    "$$ \\frac {\\partial u}{\\partial t} + c \\frac {\\partial u}{\\partial x} = 0 \\tag{5}$$\n",
    "\n",
    "where $u(x,t)$ is the quantity being transported, c is the transport velocity, $x$ is the spatial coordinate, and $t$ is time."
   ],
   "id": "e2c62b01aa58c05a"
  },
  {
   "metadata": {},
   "cell_type": "markdown",
   "source": [
    "To solve analytically the linear transport equation consider the equation 5 in vector component form operations:\n",
    "\n",
    "$$\n",
    "0 = \\frac {\\partial u}{\\partial t} + c \\frac {\\partial u}{\\partial x} =\\begin{bmatrix} \\frac {\\partial u}{\\partial t} \\\\ \\frac{\\partial u}{\\partial x} \\end{bmatrix} \\begin{bmatrix}\n",
    " 1 & c \\end{bmatrix} = \\nabla u(t,x) \\cdot (1, c) \n",
    "$$\n",
    "\n",
    "The expression $\\nabla u(t,x) \\cdot (1, c)$ is the definition of the directional derivative of the function $u(t,x)$ in the direction of the vector $(1, c)$. Now defining $\\vec s = (c, 1)$:\n",
    "\n",
    "$$\n",
    "\\begin{equation}\n",
    "D_{{s}}u = \\nabla u(x,t) \\cdot (c, 1) = 0 \\tag {6}\n",
    "\\end{equation}\n",
    "$$\n",
    "\n",
    "A zero directional derivative indicates that the rate of change of the function in a particular direction is zero. This means that the function is not changing in that direction. This means that the function $u(x,t)$ is not changing in the direction of the vector (c, 1). This equation can be solved using a variety of methods:\n",
    "\n",
    "The general solution can be reached using a family of characteristic curves of the form $x - ct = C$. Parametrizing the lines by C, so:\n",
    "\n",
    "$$ \\begin{equation} u(x,t) = \\phi (C) = \\phi(x - ct) \\end{equation} \\tag{7}$$\n",
    "\n",
    "where $\\phi$ is some function \n",
    "\n",
    "With the initial conditions $u(x,0) = u_0(x)$ the particular solution using Eq. 7 becomes:\n",
    "\n",
    "$$ \\begin{equation} u(x,t) = u_0(C) = u_0(x - ct) \\end{equation} \\tag{8}$$"
   ],
   "id": "447e702898aa4b7e"
  },
  {
   "metadata": {},
   "cell_type": "markdown",
   "source": [
    "The discretization of Eq. 5 must be done in space and time: forward difference scheme for the time derivative $\\frac{\\partial u}{ \\partial t}$ and backward difference scheme for the space derivative $\\frac{\\partial u}{ \\partial x}$. Consider discretizing the spatial coordinate $x$ into points that we index from $i = 0$ to $N$, and stepping in discrete time intervals of size $\\Delta t$.\n",
    "\n",
    "$$\n",
    "\\frac{u_i^{n+1}-u_i^n}{\\Delta t} + c \\frac{u_i^n - u_{i-1}^n}{\\Delta x} = 0 \\tag{9} \n",
    "$$\n"
   ],
   "id": "ee3c2cc727f23ac2"
  },
  {
   "metadata": {},
   "cell_type": "markdown",
   "source": "### Solving with the finite difference method (Example 1)",
   "id": "32f6e7ec331809b6"
  },
  {
   "metadata": {
    "ExecuteTime": {
     "end_time": "2024-06-19T20:38:34.532704Z",
     "start_time": "2024-06-19T20:38:34.530004Z"
    }
   },
   "cell_type": "code",
   "source": [
    "import numpy as np\n",
    "import matplotlib.pyplot as plt\n",
    "import sys\n",
    "import time"
   ],
   "id": "f1e212428f2a6bdd",
   "outputs": [],
   "execution_count": 142
  },
  {
   "metadata": {},
   "cell_type": "markdown",
   "source": [
    "#### Discretization of temporal and spatial domains \n",
    "\n",
    "With `total_x_length` = 2,  the spatial domain is $x_i\\in(0,2)$. The discretization of the temporal domain: 25 time steps with a length of $0.025s$ each timestep."
   ],
   "id": "6a55759e468daa5"
  },
  {
   "metadata": {
    "ExecuteTime": {
     "end_time": "2024-06-19T20:38:34.548947Z",
     "start_time": "2024-06-19T20:38:34.545710Z"
    }
   },
   "cell_type": "code",
   "source": [
    "total_x_lenght = 2\n",
    "number_grid_points_x = 41\n",
    "dx = total_x_lenght / (number_grid_points_x-1) # distance between any pair of adjacent grid points\n",
    "number_of_timesteps = 25\n",
    "dt = 0.025\n",
    "c = 1 # constant wave propagation velocity\n",
    "print(dx)"
   ],
   "id": "2c13e739173d6451",
   "outputs": [
    {
     "name": "stdout",
     "output_type": "stream",
     "text": [
      "0.05\n"
     ]
    }
   ],
   "execution_count": 143
  },
  {
   "metadata": {},
   "cell_type": "markdown",
   "source": [
    "#### Initial and Boundary Conditions \n",
    "\n",
    "The initial velocity $u^0$ (that's it the velocity in the time 0) is given as $u=2$ in the interval $0.5 \\leq x \\leq 1$ and $u = 1$ everywhere else in (0,2). With this initial conditions the boundary conditions are at $x = 0, u(x) = 1$ and at $x = 2, u(x) = 1$. Computationally this initial conditions for the velocity in the space $x$ can be an array as a collection of logically ordered elements. Using numpy arrays we need a set of `number_of_grid_points_x` elements that fulfill initial conditions of the velocity in the space $x$ at time t = 0, $u^0$, is as follows: "
   ],
   "id": "661c3c7641a4c88a"
  },
  {
   "metadata": {
    "ExecuteTime": {
     "end_time": "2024-06-19T20:38:34.552666Z",
     "start_time": "2024-06-19T20:38:34.549953Z"
    }
   },
   "cell_type": "code",
   "source": [
    "# starting with numpy ones\n",
    "u = np.ones(number_grid_points_x)\n",
    "\n",
    "# setting u = 2 between 0.5 and 1, and 1 in everyone else \n",
    "# u^0 then is:\n",
    "u[int(0.5/dx):int(1/dx+1)] = total_x_lenght\n",
    "print(u)"
   ],
   "id": "679df7b6eebf73bc",
   "outputs": [
    {
     "name": "stdout",
     "output_type": "stream",
     "text": [
      "[1. 1. 1. 1. 1. 1. 1. 1. 1. 1. 2. 2. 2. 2. 2. 2. 2. 2. 2. 2. 2. 1. 1. 1.\n",
      " 1. 1. 1. 1. 1. 1. 1. 1. 1. 1. 1. 1. 1. 1. 1. 1. 1.]\n"
     ]
    }
   ],
   "execution_count": 144
  },
  {
   "metadata": {
    "ExecuteTime": {
     "end_time": "2024-06-19T20:38:34.623012Z",
     "start_time": "2024-06-19T20:38:34.552666Z"
    }
   },
   "cell_type": "code",
   "source": [
    "# plotting the initial conditions of the velocity in the space\n",
    "plt.plot(np.linspace(0, total_x_lenght, number_grid_points_x),u)"
   ],
   "id": "ec11e2f496bb929a",
   "outputs": [
    {
     "data": {
      "text/plain": [
       "[<matplotlib.lines.Line2D at 0x22dcd119280>]"
      ]
     },
     "execution_count": 145,
     "metadata": {},
     "output_type": "execute_result"
    },
    {
     "data": {
      "text/plain": [
       "<Figure size 640x480 with 1 Axes>"
      ],
      "image/png": "[encoded data removed]"
     },
     "metadata": {},
     "output_type": "display_data"
    }
   ],
   "execution_count": 145
  },
  {
   "metadata": {},
   "cell_type": "markdown",
   "source": [
    "#### Solution strategy\n",
    "\n",
    "With all of these conditions revisiting the Eq. (9)\n",
    "   1. $c = 1$ \n",
    "   2. $\\Delta t = 0.025$ \n",
    "   3. $\\Delta x = 0.05$ \n",
    "   4. $u_i^n$ is the velocity in the i-th x coordinate at time n, starting with $t = 0$, $u_i^n = u_i^0$, then $u_i^0 \\in u^0$\n",
    "   5. $u_{i-1}^n$ is the velocity in the (i-1)-th x coordinate at time n, starting with $t = 0$, $u_{i-1}^n = u_{i-1}^0$, then $u_{i-1}^0 \\in u^0$\n",
    "   6. $u_i^{n+1}$ is the only unknown\n",
    "\n",
    "Solving Eq. (9) for $u_i^{n+1}$ \n",
    "\n",
    "$$\n",
    "\\begin{equation}\n",
    "u_i^{n+1} = u_i^n - c \\frac{\\Delta t}{\\Delta x}(u_i^n-u_{i-1}^n)\n",
    "\\end{equation} \\tag{10}\n",
    "$$\n",
    "\n",
    "The beginning of the calculation: with every element of the initial conditions array $u^0$ we need to perform the operation $u_i^{n+1} = u_i^n - c \\frac{\\Delta t}{\\Delta x}(u_i^n-u_{i-1}^n)$\n",
    "\n",
    "For n = 0, starting with i = 1 (backward difference)\n",
    " \n",
    "$$\n",
    "\\begin{eqnarray}\n",
    "u_1^{1} = u_1^0 - c \\frac{\\Delta t}{\\Delta x}(u_1^0-u_{0}^0) = 1 - 1 \\frac{0.025}{0.05}(1-1) = 1\\\\\n",
    "u_2^{1} = u_2^0 - c \\frac{\\Delta t}{\\Delta x}(u_2^0-u_{1}^0) = 1 - 1 \\frac{0.025}{0.05}(1-1) = 1\\\\\n",
    "u_3^{1} = u_3^0 - c \\frac{\\Delta t}{\\Delta x}(u_3^0-u_{2}^0) = 1 - 1 \\frac{0.025}{0.05}(1-1) = 1\\\\\n",
    "u_4^{1} = u_4^0 - c \\frac{\\Delta t}{\\Delta x}(u_4^0-u_{3}^0) = 1 - 1 \\frac{0.025}{0.05}(1-1) = 1\\\\\n",
    "u_5^{1} = u_5^0 - c \\frac{\\Delta t}{\\Delta x}(u_5^0-u_{4}^0) = 1 - 1 \\frac{0.025}{0.05}(1-1) = 1\\\\\n",
    "u_6^{1} = u_6^0 - c \\frac{\\Delta t}{\\Delta x}(u_6^0-u_{5}^0) = 1 - 1 \\frac{0.025}{0.05}(1-1) = 1\\\\\n",
    "u_7^{1} = u_7^0 - c \\frac{\\Delta t}{\\Delta x}(u_7^0-u_{6}^0) = 1 - 1 \\frac{0.025}{0.05}(1-1) = 1\\\\\n",
    "u_8^{1} = u_8^0 - c \\frac{\\Delta t}{\\Delta x}(u_8^0-u_{7}^0) = 1 - 1 \\frac{0.025}{0.05}(1-1) = 1\\\\\n",
    "u_9^{1} = u_9^0 - c \\frac{\\Delta t}{\\Delta x}(u_9^0-u_{8}^0) = 1 - 1 \\frac{0.025}{0.05}(1-1) = 1\\\\\n",
    "u_{10}^{1} = u_{10}^0 - c \\frac{\\Delta t}{\\Delta x}(u_{10}^0-u_{9}^0) = 2 - 1 \\frac{0.025}{0.05}(2-1) = 1.5\\\\\n",
    "u_{11}^{1} = u_{11}^0 - c \\frac{\\Delta t}{\\Delta x}(u_{11}^0-u_{10}^0) = 2 - 1 \\frac{0.025}{0.05}(2-2) = 2\\\\\n",
    "\\cdots \\\\\n",
    "\\end{eqnarray}\n",
    "$$\n",
    "\n",
    "The $u^n$ solution will be stored in a new temporary array that will be used for the calculation of the next $u^{n+1}$ time step. Before the calculation this array will be filled with np.ones(). For the spatial calculations in each time step $u^n$ we use a inner for loop, and for cicling each time step we use an outer for loop. "
   ],
   "id": "29bd2abfde02ab36"
  },
  {
   "metadata": {
    "ExecuteTime": {
     "end_time": "2024-06-19T20:38:34.626800Z",
     "start_time": "2024-06-19T20:38:34.624017Z"
    }
   },
   "cell_type": "code",
   "source": [
    "un = np.ones(number_grid_points_x) #temporary arrays of ones\n",
    "\n",
    "for n in range(number_of_timesteps): # run from 0 to number_of_timesteps times\n",
    "    un = u.copy() #copy the existing values of u into un\n",
    "    for i in range(1, number_grid_points_x): # with backward difference we must start with i = 1\n",
    "        u[i] = un[i] - c*dt/dx*(un[i] - un[i-1])"
   ],
   "id": "704c1e46dd2b51f3",
   "outputs": [],
   "execution_count": 146
  },
  {
   "metadata": {
    "ExecuteTime": {
     "end_time": "2024-06-19T20:38:34.698466Z",
     "start_time": "2024-06-19T20:38:34.626800Z"
    }
   },
   "cell_type": "code",
   "source": "plt.plot(np.linspace(0, total_x_lenght, number_grid_points_x),u)",
   "id": "24e21370348d61fd",
   "outputs": [
    {
     "data": {
      "text/plain": [
       "[<matplotlib.lines.Line2D at 0x22dcd176db0>]"
      ]
     },
     "execution_count": 147,
     "metadata": {},
     "output_type": "execute_result"
    },
    {
     "data": {
      "text/plain": [
       "<Figure size 640x480 with 1 Axes>"
      ],
      "image/png": "[encoded data removed]"
     },
     "metadata": {},
     "output_type": "display_data"
    }
   ],
   "execution_count": 147
  }
 ],
 "metadata": {
  "kernelspec": {
   "display_name": "Python 3",
   "language": "python",
   "name": "python3"
  },
  "language_info": {
   "codemirror_mode": {
    "name": "ipython",
    "version": 2
   },
   "file_extension": ".py",
   "mimetype": "text/x-python",
   "name": "python",
   "nbconvert_exporter": "python",
   "pygments_lexer": "ipython2",
   "version": "2.7.6"
  }
 },
 "nbformat": 4,
 "nbformat_minor": 5
}
