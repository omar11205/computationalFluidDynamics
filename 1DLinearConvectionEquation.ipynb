{
 "cells": [
  {
   "metadata": {},
   "cell_type": "markdown",
   "source": [
    "CFD Sources: \n",
    "1. https://github.com/emhayki/CFD-Fundamental/blob/main/CFD-Fundamental-Guide.pdf\n",
    "2. https://github.com/barbagroup/CFDPython/blob/master/lessons/01_Step_1.ipynb\n",
    "\n",
    "\n",
    "Theory sources: \n",
    "3. https://www.math.toronto.edu/jko/APM346_summary_2_2020.pdf\n",
    "4. https://youtu.be/ec7L8wRABy4"
   ],
   "id": "944c6a973388a009"
  },
  {
   "metadata": {},
   "cell_type": "markdown",
   "source": "## Analysis, derivation and discretization of the 1D-Linear Convection Equation",
   "id": "8a9bb841b6bc5bd4"
  },
  {
   "metadata": {
    "ExecuteTime": {
     "end_time": "2024-06-19T16:38:35.164428Z",
     "start_time": "2024-06-19T16:38:35.161651Z"
    }
   },
   "cell_type": "code",
   "source": "from IPython.display import Image",
   "id": "a12f94421e81b995",
   "outputs": [],
   "execution_count": 1
  },
  {
   "metadata": {},
   "cell_type": "markdown",
   "source": [
    "$$\n",
    "\\begin{eqnarray}\n",
    "    \\rho \\left( \\frac{\\partial u}{\\partial t} + u \\frac{\\partial u}{\\partial x} + v \\frac{\\partial u}{\\partial y} + w \\frac{\\partial u}{\\partial z} \\right) = -\\frac{\\partial p}{\\partial x} + \\mu \\left( \\frac{\\partial^2 u}{\\partial x^2} + \\frac{\\partial^2 u}{\\partial y^2} + \\frac{\\partial^2 u}{\\partial z^2} \\right) + f_x \\\\\n",
    "    \\rho \\left( \\frac{\\partial v}{\\partial t} + u \\frac{\\partial v}{\\partial x} + v \\frac{\\partial v}{\\partial y} + w \\frac{\\partial v}{\\partial z} \\right) = -\\frac{\\partial p}{\\partial y} + \\mu \\left( \\frac{\\partial^2 v}{\\partial x^2} + \\frac{\\partial^2 v}{\\partial y^2} + \\frac{\\partial^2 v}{\\partial z^2} \\right) + f_y \\\\\n",
    "    \\rho \\left( \\frac{\\partial w}{\\partial t} + u \\frac{\\partial w}{\\partial x} + v \\frac{\\partial w}{\\partial y} + w \\frac{\\partial w}{\\partial z} \\right) = -\\frac{\\partial p}{\\partial z} + \\mu \\left( \\frac{\\partial^2 w}{\\partial x^2} + \\frac{\\partial^2 w}{\\partial y^2} + \\frac{\\partial^2 w}{\\partial z^2} \\right) + f_z\n",
    "\\end{eqnarray}\n",
    "$$\n",
    "\n",
    "Eq. (1) is the equation for the $x$ direction, Eq. (2) for the $y$ direction, and Eq (3) for the $z$ direction\n",
    "\n",
    "Where: $\\rho$ is the fluid density\n",
    "\n",
    " ,$\\mu$ is the dynamic viscosity\n",
    "\n",
    " ,$p$ is the pressure\n",
    "\n",
    " ,$u, v, w$ are the velocity components in the $x, y, z$ directions, respectively\n",
    "\n",
    " ,$f_x, f_y, f_z$ are the body force components in the $x, y, z$ directions, respectively"
   ],
   "id": "25bd57044a80337c"
  },
  {
   "metadata": {},
   "cell_type": "markdown",
   "source": [
    "Derivation of the 1-D non-linear convection equation, and it's linearization assumming a 'constant velocity' $c$ of wave like propagation. \n",
    "\n",
    "Assumming invicid flow, no presure gradient and no body force in the x direction Eq(1) becomes:"
   ],
   "id": "7a7dc46e3765054f"
  },
  {
   "metadata": {
    "ExecuteTime": {
     "end_time": "2024-06-19T16:38:39.944428Z",
     "start_time": "2024-06-19T16:38:39.939063Z"
    }
   },
   "cell_type": "code",
   "source": "Image(\"images/simplified_ns.png\")",
   "id": "d03dfe6b8126b120",
   "outputs": [
    {
     "data": {
      "image/png": "[encoded data removed]",
      "text/plain": [
       "<IPython.core.display.Image object>"
      ]
     },
     "execution_count": 2,
     "metadata": {},
     "output_type": "execute_result"
    }
   ],
   "execution_count": 2
  },
  {
   "metadata": {},
   "cell_type": "markdown",
   "source": [
    "$$\n",
    "\\frac{\\partial u}{\\partial t} + u \\frac{\\partial u}{\\partial x} = 0 \\tag{4}\n",
    "$$\n",
    "\n",
    "Eq. 4 is still a non-linear equation. To linearize it we consider $u$ to be constant, then $u = c$  \n",
    "\n",
    "The result is the 1D linear transport equation:\n",
    "\n",
    "$$ \\frac {\\partial u}{\\partial t} + c \\frac {\\partial u}{\\partial x} = 0 \\tag{5}$$\n",
    "\n",
    "where $u(x,t)$ is the quantity being transported, c is the transport velocity, $x$ is the spatial coordinate, and $t$ is time."
   ],
   "id": "e2c62b01aa58c05a"
  },
  {
   "metadata": {},
   "cell_type": "markdown",
   "source": [
    "To solve analytically the linear transport equation consider the equation 5 in vector component form operations:\n",
    "\n",
    "$$\n",
    "0 = \\frac {\\partial u}{\\partial t} + c \\frac {\\partial u}{\\partial x} =\\begin{bmatrix} \\frac {\\partial u}{\\partial t} \\\\ \\frac{\\partial u}{\\partial x} \\end{bmatrix} \\begin{bmatrix}\n",
    " 1 & c \\end{bmatrix} = \\nabla u(t,x) \\cdot (1, c) \n",
    "$$\n",
    "\n",
    "The expression $\\nabla u(t,x) \\cdot (1, c)$ is the definition of the directional derivative of the function $u(t,x)$ in the direction of the vector $(1, c)$. Now defining $\\vec s = (c, 1)$:\n",
    "\n",
    "$$\n",
    "\\begin{equation}\n",
    "D_{{s}}u = \\nabla u(x,t) \\cdot (c, 1) = 0 \\tag {6}\n",
    "\\end{equation}\n",
    "$$\n",
    "\n",
    "A zero directional derivative indicates that the rate of change of the function in a particular direction is zero. This means that the function is not changing in that direction. This means that the function $u(x,t)$ is not changing in the direction of the vector (c, 1). This equation can be solved using a variety of methods:\n",
    "\n",
    "The general solution can be reached using a family of characteristic curves of the form $x - ct = C$. Parametrizing the lines by C, so:\n",
    "\n",
    "$$ \\begin{equation} u(x,t) = \\phi (C) = \\phi(x - ct) \\end{equation} \\tag{7}$$\n",
    "\n",
    "where $\\phi$ is some function \n",
    "\n",
    "With the initial conditions $u(x,0) = u_0(x)$ the particular solution using Eq. 7 becomes:\n",
    "\n",
    "$$ \\begin{equation} u(x,t) = u_0(C) = u_0(x - ct) \\end{equation} \\tag{8}$$"
   ],
   "id": "447e702898aa4b7e"
  },
  {
   "metadata": {},
   "cell_type": "markdown",
   "source": [
    "The discretization of Eq. 5 must be done in space and time: forward difference scheme for the time derivative $\\frac{\\partial u}{ \\partial t}$ and backward difference scheme for the space derivative $\\frac{\\partial u}{ \\partial x}$. Consider discretizing the spatial coordinate $x$ into points that we index from $i = 0$ to $N$, and stepping in discrete time intervals of size $\\Delta t$.\n",
    "\n",
    "$$\n",
    "\\frac{u_i^{n+1}-u_i^n}{\\Delta t} + c \\frac{u_i^n - u_{i-1}^n}{\\Delta x} = 0 \\tag{9} \n",
    "$$\n"
   ],
   "id": "ee3c2cc727f23ac2"
  },
  {
   "metadata": {},
   "cell_type": "markdown",
   "source": "### Solving with the finite difference method",
   "id": "32f6e7ec331809b6"
  },
  {
   "metadata": {
    "ExecuteTime": {
     "end_time": "2024-06-19T16:38:45.051512Z",
     "start_time": "2024-06-19T16:38:44.559956Z"
    }
   },
   "cell_type": "code",
   "source": [
    "import numpy as np\n",
    "import matplotlib.pyplot as plt\n",
    "import sys\n",
    "import time"
   ],
   "id": "f1e212428f2a6bdd",
   "outputs": [],
   "execution_count": 3
  },
  {
   "metadata": {},
   "cell_type": "markdown",
   "source": [
    "#### Discretization of temporal and spatial domains \n",
    "\n",
    "With `total_x_length` = 2,  the spatial domain is $x_i\\in(0,2)$. The discretization of the temporal domain: 25 time steps with a length of $0.025s$ each timestep."
   ],
   "id": "6a55759e468daa5"
  },
  {
   "metadata": {
    "ExecuteTime": {
     "end_time": "2024-06-19T16:59:12.281551Z",
     "start_time": "2024-06-19T16:59:12.278041Z"
    }
   },
   "cell_type": "code",
   "source": [
    "total_x_lenght = 2\n",
    "number_grid_points_x = 41\n",
    "dx = total_x_lenght / (number_grid_points_x-1) # distance between any pair of adjacent grid points\n",
    "number_of_timesteps = 25\n",
    "dt = 0.025\n",
    "c = 1 # constant wave propagation velocity\n",
    "print(dx)"
   ],
   "id": "2c13e739173d6451",
   "outputs": [
    {
     "name": "stdout",
     "output_type": "stream",
     "text": [
      "0.05\n"
     ]
    }
   ],
   "execution_count": 8
  },
  {
   "metadata": {},
   "cell_type": "markdown",
   "source": [
    "#### Initial and Boundary Conditions \n",
    "\n",
    "The initial velocity $u^0$ (that's it the velocity in the time 0) is given as $u=2$ in the interval $0.5 \\leq x \\leq 1$ and $u = 1$ everywhere else in (0,2). With this initial conditions the boundary conditions are at $x = 0, u(x) = 1$ and at $x = 2, u(x) = 1$. Computationally this initial conditions for the velocity in the space $x$ can be an array as a collection of logically ordered elements. Using numpy arrays we need a set of `number_of_grid_points_x` elements that fulfill initial conditions of the velocity in the space $x$ at time t = 0, $u^0$, is as follows: "
   ],
   "id": "661c3c7641a4c88a"
  },
  {
   "metadata": {
    "ExecuteTime": {
     "end_time": "2024-06-19T16:42:45.030468Z",
     "start_time": "2024-06-19T16:42:45.027098Z"
    }
   },
   "cell_type": "code",
   "source": [
    "# starting with numpy ones\n",
    "u = np.ones(number_grid_points_x)\n",
    "\n",
    "# setting u = 2 between 0.5 and 1, and 1 in everyone else \n",
    "# u^0 then is:\n",
    "u[int(0.5/dx):int(1/dx+1)] = 2\n",
    "print(u)"
   ],
   "id": "679df7b6eebf73bc",
   "outputs": [
    {
     "name": "stdout",
     "output_type": "stream",
     "text": [
      "[1. 1. 1. 1. 1. 1. 1. 1. 1. 1. 2. 2. 2. 2. 2. 2. 2. 2. 2. 2. 2. 1. 1. 1.\n",
      " 1. 1. 1. 1. 1. 1. 1. 1. 1. 1. 1. 1. 1. 1. 1. 1. 1.]\n"
     ]
    }
   ],
   "execution_count": 6
  },
  {
   "metadata": {
    "ExecuteTime": {
     "end_time": "2024-06-19T16:46:36.378936Z",
     "start_time": "2024-06-19T16:46:36.280849Z"
    }
   },
   "cell_type": "code",
   "source": [
    "# plotting the initial conditions of the velocity in the space\n",
    "plt.plot(np.linspace(0, 2, number_grid_points_x),u)"
   ],
   "id": "ec11e2f496bb929a",
   "outputs": [
    {
     "data": {
      "text/plain": [
       "[<matplotlib.lines.Line2D at 0x1aa12f73680>]"
      ]
     },
     "execution_count": 7,
     "metadata": {},
     "output_type": "execute_result"
    },
    {
     "data": {
      "text/plain": [
       "<Figure size 640x480 with 1 Axes>"
      ],
      "image/png": "[encoded data removed]"
     },
     "metadata": {},
     "output_type": "display_data"
    }
   ],
   "execution_count": 7
  },
  {
   "metadata": {},
   "cell_type": "markdown",
   "source": [
    "#### Solution strategy\n",
    "\n",
    "With all of these conditions revisiting the Eq. (9)\n",
    "   1. $c = 1$ \n",
    "   2. $\\Delta t = 0.025$ \n",
    "   3. $\\Delta x = 0.05$ \n",
    "   4. $u_i^n$ is the velocity in the i-th x coordinate at time n, starting with $t = 0$, $u_i^n = u_i^0$, then $u_i^0 \\in u^0$\n",
    "   5. $u_{i-1}^n$ is the velocity in the (i-1)-th x coordinate at time n, starting with $t = 0$, $u_{i-1}^n = u_{i-1}^0$, then $u_{i-1}^0 \\in u^0$\n",
    "   6. $u_i^{n+1}$ is the only unknown\n",
    "\n",
    "Solving Eq. (9) for $u_i^{n+1}$ \n",
    "\n",
    "$$\n",
    "\\begin{equation}\n",
    "u_i^{n+1} = u_i^n - c \\frac{\\Delta t}{\\Delta x}(u_i^n-u_{i-1}^n)\n",
    "\\end{equation} \\tag{10}\n",
    "$$\n",
    "\n",
    "With every element of the array $u^0$ we need to perform the operation $u_i^{n+1} = u_i^n - c \\frac{\\Delta t}{\\Delta x}(u_i^n-u_{i-1}^n)$\n",
    "\n",
    "For n = 0 and i = 1 \n",
    "$u_i^{1} = u_i^0 - c \\frac{\\Delta t}{\\Delta x}(u_i^0-u_{i-1}^0) = $      "
   ],
   "id": "29bd2abfde02ab36"
  },
  {
   "metadata": {
    "ExecuteTime": {
     "end_time": "2024-06-15T00:47:12.640269Z",
     "start_time": "2024-06-15T00:47:12.560204Z"
    }
   },
   "cell_type": "code",
   "source": [
    "import matplotlib.animation as animation\n",
    "\n",
    "########################################################\n",
    "# Step 1: 1D Linear Convection\n",
    "########################################################\n",
    "\n",
    "X  = 41                    # Number of spatial points\n",
    "T  = 40                    # Number of time steps\n",
    "c  = 1                     # Wave speed\n",
    "dt = 0.025                 # Time step size\n",
    "dx = 2. / (X - 1.)         # Spatial step size\n",
    "\n",
    "# Initialise spatial grid and initial condition\n",
    "x = np.linspace(0, 5, num=X)\n",
    "u = np.ones(X)\n",
    "u[(x >= 0.5) & (x <= 1)] = 2\n",
    "\n",
    "# Setup the plot\n",
    "fig, ax = plt.subplots()\n",
    "line, = ax.plot(x, u, 'r', linewidth=1)\n",
    "ax.set_xlim(0, 2)\n",
    "ax.set_ylim(0.5, 2.5)\n",
    "ax.set_xlabel('$x$')\n",
    "ax.set_ylabel('$u$')\n",
    "ax.set_title('1D Linear Convection')\n",
    "\n",
    "def animate(n):\n",
    "    global u\n",
    "    un = u.copy()  \n",
    "    for i in range(1, X):  \n",
    "        u[i] = un[i] - c * (un[i] - un[i-1]) * dt / dx\n",
    "    line.set_ydata(u)\n",
    "    return line,\n",
    "\n",
    "anim = animation.FuncAnimation(fig, animate, frames=T, interval=50)\n",
    "\n",
    "plt.show()"
   ],
   "id": "95ed4c2193318788",
   "outputs": [
    {
     "data": {
      "text/plain": [
       "<Figure size 640x480 with 1 Axes>"
      ],
      "image/png": "[encoded data removed]"
     },
     "metadata": {},
     "output_type": "display_data"
    }
   ],
   "execution_count": 16
  },
  {
   "metadata": {
    "ExecuteTime": {
     "end_time": "2024-06-15T00:47:12.642765Z",
     "start_time": "2024-06-15T00:47:12.640269Z"
    }
   },
   "cell_type": "code",
   "source": "",
   "id": "d1c0ce98e21d2e4d",
   "outputs": [],
   "execution_count": 16
  }
 ],
 "metadata": {
  "kernelspec": {
   "display_name": "Python 3",
   "language": "python",
   "name": "python3"
  },
  "language_info": {
   "codemirror_mode": {
    "name": "ipython",
    "version": 2
   },
   "file_extension": ".py",
   "mimetype": "text/x-python",
   "name": "python",
   "nbconvert_exporter": "python",
   "pygments_lexer": "ipython2",
   "version": "2.7.6"
  }
 },
 "nbformat": 4,
 "nbformat_minor": 5
}
