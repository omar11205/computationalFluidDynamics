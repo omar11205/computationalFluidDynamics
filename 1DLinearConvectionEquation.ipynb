{
 "cells": [
  {
   "metadata": {},
   "cell_type": "markdown",
   "source": [
    "CFD Sources: \n",
    "1. https://github.com/emhayki/CFD-Fundamental/blob/main/CFD-Fundamental-Guide.pdf\n",
    "2. https://github.com/barbagroup/CFDPython/blob/master/lessons/01_Step_1.ipynb\n",
    "\n",
    "\n",
    "Theory sources: \n",
    "3. https://www.math.toronto.edu/jko/APM346_summary_2_2020.pdf\n",
    "4. https://youtu.be/ec7L8wRABy4"
   ],
   "id": "944c6a973388a009"
  },
  {
   "metadata": {
    "ExecuteTime": {
     "end_time": "2024-06-15T00:47:11.472454Z",
     "start_time": "2024-06-15T00:47:11.469345Z"
    }
   },
   "cell_type": "code",
   "source": "from IPython.display import Image",
   "id": "a12f94421e81b995",
   "outputs": [],
   "execution_count": 12
  },
  {
   "metadata": {},
   "cell_type": "markdown",
   "source": [
    "$$\n",
    "\\begin{equation}\n",
    "    \\rho \\left( \\frac{\\partial u}{\\partial t} + u \\frac{\\partial u}{\\partial x} + v \\frac{\\partial u}{\\partial y} + w \\frac{\\partial u}{\\partial z} \\right) = -\\frac{\\partial p}{\\partial x} + \\mu \\left( \\frac{\\partial^2 u}{\\partial x^2} + \\frac{\\partial^2 u}{\\partial y^2} + \\frac{\\partial^2 u}{\\partial z^2} \\right) + f_x\\\\\n",
    "    \\rho \\left( \\frac{\\partial v}{\\partial t} + u \\frac{\\partial v}{\\partial x} + v \\frac{\\partial v}{\\partial y} + w \\frac{\\partial v}{\\partial z} \\right) = -\\frac{\\partial p}{\\partial y} + \\mu \\left( \\frac{\\partial^2 v}{\\partial x^2} + \\frac{\\partial^2 v}{\\partial y^2} + \\frac{\\partial^2 v}{\\partial z^2} \\right) + f_y\\\\\n",
    "    \\rho \\left( \\frac{\\partial w}{\\partial t} + u \\frac{\\partial w}{\\partial x} + v \\frac{\\partial w}{\\partial y} + w \\frac{\\partial w}{\\partial z} \\right) = -\\frac{\\partial p}{\\partial z} + \\mu \\left( \\frac{\\partial^2 w}{\\partial x^2} + \\frac{\\partial^2 w}{\\partial y^2} + \\frac{\\partial^2 w}{\\partial z^2} \\right) + f_z\n",
    "\\end{equation}\n",
    "$$\n",
    "\n",
    "Eq. (1) is the equation for the $x$ direction, Eq. (2) for the $y$ direction, and Eq (3) for the $z$ direction\n",
    "\n",
    "Where: $\\rho$ is the fluid density\n",
    "\n",
    " ,$\\mu$ is the dynamic viscosity\n",
    "\n",
    " ,$p$ is the pressure\n",
    "\n",
    " ,$u, v, w$ are the velocity components in the $x, y, z$ directions, respectively\n",
    "\n",
    " ,$f_x, f_y, f_z$ are the body force components in the $x, y, z$ directions, respectively"
   ],
   "id": "25bd57044a80337c"
  },
  {
   "metadata": {},
   "cell_type": "markdown",
   "source": [
    "Derivation of the 1-D non-linear convection equation, and it's linearization assumming a 'constant velocity' $c$ of wave like propagation. \n",
    "\n",
    "Assumming invicid flow, no presure gradient and no body force in the x direction Eq(1) becomes:"
   ],
   "id": "7a7dc46e3765054f"
  },
  {
   "metadata": {
    "ExecuteTime": {
     "end_time": "2024-06-15T00:47:11.494182Z",
     "start_time": "2024-06-15T00:47:11.489972Z"
    }
   },
   "cell_type": "code",
   "source": "Image(\"images/simplified_ns.png\")",
   "id": "d03dfe6b8126b120",
   "outputs": [
    {
     "data": {
      "image/png": "[encoded data removed]",
      "text/plain": [
       "<IPython.core.display.Image object>"
      ]
     },
     "execution_count": 13,
     "metadata": {},
     "output_type": "execute_result"
    }
   ],
   "execution_count": 13
  },
  {
   "metadata": {},
   "cell_type": "markdown",
   "source": [
    "$$\n",
    "\\frac{\\partial u}{\\partial t} + u \\frac{\\partial u}{\\partial x} = 0 \\tag{4}\n",
    "$$\n",
    "\n",
    "Eq. 4 is still a non-linear equation. To linearize it we consider $u$ to be constant, then $u = c$  \n",
    "\n",
    "The result is the 1D transport equation:\n",
    "\n",
    "$$ \\frac {\\partial u}{\\partial t} + c \\frac {\\partial u}{\\partial x} = 0 \\tag{5}$$\n",
    "\n",
    "where $u(x,t)$ is the quantity being transported, c is the transport velocity, $x$ is the spatial coordinate, and $t$ is time."
   ],
   "id": "e2c62b01aa58c05a"
  },
  {
   "metadata": {},
   "cell_type": "markdown",
   "source": [
    "To solve the linear transport equation consider the equation 5 in vector component form operations:\n",
    "\n",
    "$$\n",
    "0 = \\frac {\\partial u}{\\partial t} + c \\frac {\\partial u}{\\partial x} =\\begin{bmatrix} \\frac {\\partial u}{\\partial t} \\\\ \\frac{\\partial u}{\\partial x} \\end{bmatrix} \\begin{bmatrix}\n",
    " 1 & c \\end{bmatrix} = \\nabla u(t,x) \\cdot (1, c) \n",
    "$$\n",
    "\n",
    "The expression $\\nabla u(t,x) \\cdot (1, c)$ is the definition of the directional derivative of the function $u(t,x)$ in the direction of the vector $(1, c)$. With $\\vec s = (1, c)$:\n",
    "\n",
    "$$\n",
    "\\begin{equation}\n",
    "D_{{s}}u = \\nabla u(t,x) \\cdot (1, c) = 0 \\tag {6}\n",
    "\\end{equation}\n",
    "$$\n",
    "\n",
    "A zero directional derivative indicates that the rate of change of the function in a particular direction is zero. This means that the function is not changing in that direction. \n"
   ],
   "id": "447e702898aa4b7e"
  },
  {
   "metadata": {},
   "cell_type": "markdown",
   "source": "",
   "id": "c93761af88c5efad"
  },
  {
   "metadata": {},
   "cell_type": "markdown",
   "source": "To plot the equation, using the finite difference method:",
   "id": "ee3c2cc727f23ac2"
  },
  {
   "metadata": {
    "ExecuteTime": {
     "end_time": "2024-06-15T00:47:11.497600Z",
     "start_time": "2024-06-15T00:47:11.495188Z"
    }
   },
   "cell_type": "code",
   "source": [
    "import numpy as np\n",
    "import matplotlib.pyplot as plt\n",
    "from mpl_toolkits.mplot3d import Axes3D"
   ],
   "id": "f1e212428f2a6bdd",
   "outputs": [],
   "execution_count": 14
  },
  {
   "metadata": {
    "ExecuteTime": {
     "end_time": "2024-06-15T00:47:12.559199Z",
     "start_time": "2024-06-15T00:47:11.497600Z"
    }
   },
   "cell_type": "code",
   "source": [
    "# ChatGPT's solution\n",
    "#defining parameters\n",
    "nx = 1000 # number of spatial points\n",
    "nt = 2000 # number of time steps\n",
    "L = 200.0 # length of the spatial domain\n",
    "T = 200 # total time\n",
    "c = 0.01 # transport velocity\n",
    "\n",
    "dx = L/(nx - 1) # spatial step size\n",
    "dt = T/nt     # time step size\n",
    "\n",
    "# stability criterion for the explicit scheme\n",
    "if c*dt/ dx > 1:\n",
    "    raise ValueError(\"The scheme is unstable. Please adjust dx, dt, or c.\")\n",
    "\n",
    "# initialize the spatial and temporal domain\n",
    "x = np.linspace(0, L, nx)\n",
    "t = np.linspace(0, T, nt)\n",
    "\n",
    "# initial condition\n",
    "u_initial = np.sin(np.pi*x/L)\n",
    "\n",
    "# Initialize the solution matrix\n",
    "u = np.zeros((nt, nx))\n",
    "u[0, :] = u_initial\n",
    "\n",
    "# Time-stepping loop\n",
    "for n in range(0, nt-1):\n",
    "    for i in range(1, nx):\n",
    "        u[n+1, i] = u[n, i] - c * dt / dx * (u[n, i] - u[n, i-1])\n",
    "\n",
    "# Plotting the solution in 3D\n",
    "X, T = np.meshgrid(x, t)\n",
    "print(X)\n",
    "\n",
    "#fig = plt.figure()\n",
    "#ax = fig.add_subplot(111, projection='3d')\n",
    "#ax.plot_surface(X, T, u, cmap='viridis')\n",
    "\n",
    "#ax.set_xlabel('Spatial coordinate (x)')\n",
    "#ax.set_ylabel('Time (t)')\n",
    "#ax.set_zlabel('Solution (u)')\n",
    "#ax.set_title('1D Transport Equation Solution')\n",
    "\n",
    "#plt.show()"
   ],
   "id": "5e90844abedbcf4e",
   "outputs": [
    {
     "name": "stdout",
     "output_type": "stream",
     "text": [
      "[[  0.          0.2002002   0.4004004 ... 199.5995996 199.7997998\n",
      "  200.       ]\n",
      " [  0.          0.2002002   0.4004004 ... 199.5995996 199.7997998\n",
      "  200.       ]\n",
      " [  0.          0.2002002   0.4004004 ... 199.5995996 199.7997998\n",
      "  200.       ]\n",
      " ...\n",
      " [  0.          0.2002002   0.4004004 ... 199.5995996 199.7997998\n",
      "  200.       ]\n",
      " [  0.          0.2002002   0.4004004 ... 199.5995996 199.7997998\n",
      "  200.       ]\n",
      " [  0.          0.2002002   0.4004004 ... 199.5995996 199.7997998\n",
      "  200.       ]]\n"
     ]
    }
   ],
   "execution_count": 15
  },
  {
   "metadata": {
    "ExecuteTime": {
     "end_time": "2024-06-15T00:47:12.640269Z",
     "start_time": "2024-06-15T00:47:12.560204Z"
    }
   },
   "cell_type": "code",
   "source": [
    "import matplotlib.animation as animation\n",
    "\n",
    "########################################################\n",
    "# Step 1: 1D Linear Convection\n",
    "########################################################\n",
    "\n",
    "X  = 41                    # Number of spatial points\n",
    "T  = 40                    # Number of time steps\n",
    "c  = 1                     # Wave speed\n",
    "dt = 0.025                 # Time step size\n",
    "dx = 2. / (X - 1.)         # Spatial step size\n",
    "\n",
    "# Initialise spatial grid and initial condition\n",
    "x = np.linspace(0, 5, num=X)\n",
    "u = np.ones(X)\n",
    "u[(x >= 0.5) & (x <= 1)] = 2\n",
    "\n",
    "# Setup the plot\n",
    "fig, ax = plt.subplots()\n",
    "line, = ax.plot(x, u, 'r', linewidth=1)\n",
    "ax.set_xlim(0, 2)\n",
    "ax.set_ylim(0.5, 2.5)\n",
    "ax.set_xlabel('$x$')\n",
    "ax.set_ylabel('$u$')\n",
    "ax.set_title('1D Linear Convection')\n",
    "\n",
    "def animate(n):\n",
    "    global u\n",
    "    un = u.copy()  \n",
    "    for i in range(1, X):  \n",
    "        u[i] = un[i] - c * (un[i] - un[i-1]) * dt / dx\n",
    "    line.set_ydata(u)\n",
    "    return line,\n",
    "\n",
    "anim = animation.FuncAnimation(fig, animate, frames=T, interval=50)\n",
    "\n",
    "plt.show()"
   ],
   "id": "95ed4c2193318788",
   "outputs": [
    {
     "data": {
      "text/plain": [
       "<Figure size 640x480 with 1 Axes>"
      ],
      "image/png": "[encoded data removed]"
     },
     "metadata": {},
     "output_type": "display_data"
    }
   ],
   "execution_count": 16
  },
  {
   "metadata": {
    "ExecuteTime": {
     "end_time": "2024-06-15T00:47:12.642765Z",
     "start_time": "2024-06-15T00:47:12.640269Z"
    }
   },
   "cell_type": "code",
   "source": "",
   "id": "d1c0ce98e21d2e4d",
   "outputs": [],
   "execution_count": 16
  }
 ],
 "metadata": {
  "kernelspec": {
   "display_name": "Python 3",
   "language": "python",
   "name": "python3"
  },
  "language_info": {
   "codemirror_mode": {
    "name": "ipython",
    "version": 2
   },
   "file_extension": ".py",
   "mimetype": "text/x-python",
   "name": "python",
   "nbconvert_exporter": "python",
   "pygments_lexer": "ipython2",
   "version": "2.7.6"
  }
 },
 "nbformat": 4,
 "nbformat_minor": 5
}
