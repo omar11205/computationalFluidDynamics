{
 "cells": [
  {
   "cell_type": "code",
   "id": "initial_id",
   "metadata": {
    "collapsed": true,
    "ExecuteTime": {
     "end_time": "2024-07-04T01:30:54.979378Z",
     "start_time": "2024-07-04T01:30:54.912253Z"
    }
   },
   "source": [
    "from sympy import LeviCivita, symbols, Matrix\n",
    "\n",
    "# Define the components of the vectors A and B\n",
    "A1, A2, A3 = symbols('A1 A2 A3')\n",
    "B1, B2, B3 = symbols('B1 B2 B3')\n",
    "\n",
    "A = Matrix([A1, A2, A3])\n",
    "B = Matrix([B1, B2, B3])\n",
    "\n",
    "# Define the indices and the Levi-Civita symbol\n",
    "i, j, k = symbols('i j k')\n",
    "epsilon = LeviCivita(i, j, k)\n",
    "\n",
    "# Initialize the cross product result as a zero matrix\n",
    "cross_product = Matrix([0, 0, 0])\n",
    "\n",
    "# Calculate the cross product using the Levi-Civita symbol\n",
    "for i in range(3):\n",
    "    for j in range(3):\n",
    "        for k in range(3):\n",
    "            cross_product[i] += epsilon.subs({i: i, j: j, k: k}) * A[j] * B[k]\n",
    "\n",
    "# Simplify the result\n",
    "cross_product = cross_product.simplify()\n",
    "\n",
    "# Display the cross product\n",
    "cross_product"
   ],
   "outputs": [],
   "execution_count": 4
  },
  {
   "metadata": {
    "ExecuteTime": {
     "end_time": "2024-07-04T01:30:49.370001Z",
     "start_time": "2024-07-04T01:30:49.362576Z"
    }
   },
   "cell_type": "code",
   "source": "print(cross_product)",
   "id": "9234148b9a204ba6",
   "outputs": [
    {
     "name": "stdout",
     "output_type": "stream",
     "text": [
      "None\n"
     ]
    }
   ],
   "execution_count": 3
  },
  {
   "metadata": {},
   "cell_type": "code",
   "outputs": [],
   "execution_count": null,
   "source": "",
   "id": "71fb250d5418896"
  }
 ],
 "metadata": {
  "kernelspec": {
   "display_name": "Python 3",
   "language": "python",
   "name": "python3"
  },
  "language_info": {
   "codemirror_mode": {
    "name": "ipython",
    "version": 2
   },
   "file_extension": ".py",
   "mimetype": "text/x-python",
   "name": "python",
   "nbconvert_exporter": "python",
   "pygments_lexer": "ipython2",
   "version": "2.7.6"
  }
 },
 "nbformat": 4,
 "nbformat_minor": 5
}
