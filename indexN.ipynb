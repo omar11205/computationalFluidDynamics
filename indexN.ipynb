{
 "cells": [
  {
   "metadata": {
    "ExecuteTime": {
     "end_time": "2024-07-04T15:07:04.666488Z",
     "start_time": "2024-07-04T15:07:04.658546Z"
    }
   },
   "cell_type": "code",
   "source": [
    "from sympy import LeviCivita, symbols\n",
    "import numpy as np\n",
    "\n",
    "# Define the Levi-Civita symbol using NumPy and list comprehension\n",
    "eps = np.array([[[float(LeviCivita(i, j, k)) for k in range(3)] for j in range(3)] for i in range(3)])\n",
    "print(\"Levi-Civita symbol:\")\n",
    "print(eps)\n",
    "\n",
    "# Define the vectors A and B\n",
    "A = np.array([1, 2, 3])\n",
    "B = np.array([4, -5, 6])\n",
    "\n",
    "# Calculate the cross product using the Levi-Civita symbol\n",
    "cross_product = np.array([sum(eps[i, j, k] * A[j] * B[k] for j in range(3) for k in range(3)) for i in range(3)])\n",
    "\n",
    "# Print the result\n",
    "print(\"Cross product of A and B:\")\n",
    "print(cross_product)"
   ],
   "id": "9234148b9a204ba6",
   "outputs": [
    {
     "name": "stdout",
     "output_type": "stream",
     "text": [
      "Levi-Civita symbol:\n",
      "[[[ 0.  0.  0.]\n",
      "  [ 0.  0.  1.]\n",
      "  [ 0. -1.  0.]]\n",
      "\n",
      " [[ 0.  0. -1.]\n",
      "  [ 0.  0.  0.]\n",
      "  [ 1.  0.  0.]]\n",
      "\n",
      " [[ 0.  1.  0.]\n",
      "  [-1.  0.  0.]\n",
      "  [ 0.  0.  0.]]]\n",
      "Cross product of A and B:\n",
      "[ 27.   6. -13.]\n"
     ]
    }
   ],
   "execution_count": 14
  },
  {
   "metadata": {
    "ExecuteTime": {
     "end_time": "2024-07-04T15:09:09.215477Z",
     "start_time": "2024-07-04T15:09:08.755415Z"
    }
   },
   "cell_type": "code",
   "source": [
    "from sympy import LeviCivita, symbols\n",
    "import numpy as np\n",
    "\n",
    "# Define the Levi-Civita symbol using NumPy list comprehension\n",
    "eps = np.array([[[float(LeviCivita(i, j, k)) for k in range(3)] for j in range(3)] for i in range(3)])\n",
    "\n",
    "# Define the components of the vectors A and B\n",
    "A1, A2, A3 = symbols('A1 A2 A3')\n",
    "B1, B2, B3 = symbols('B1 B2 B3')\n",
    "\n",
    "A = np.array([A1, A2, A3])\n",
    "B = np.array([B1, B2, B3])\n",
    "\n",
    "# Calculate the cross product using the Levi-Civita symbol\n",
    "cross_product = np.array([\n",
    "    sum(eps[i, j, k] * A[j] * B[k] for j in range(3) for k in range(3))\n",
    "    for i in range(3)\n",
    "])\n",
    "\n",
    "# Print the cross product\n",
    "print(cross_product)"
   ],
   "id": "71fb250d5418896",
   "outputs": [
    {
     "name": "stdout",
     "output_type": "stream",
     "text": [
      "[1.0*A2*B3 - 1.0*A3*B2 -1.0*A1*B3 + 1.0*A3*B1 1.0*A1*B2 - 1.0*A2*B1]\n"
     ]
    }
   ],
   "execution_count": 1
  },
  {
   "metadata": {},
   "cell_type": "code",
   "outputs": [],
   "execution_count": null,
   "source": "",
   "id": "d99bddff0dac2864"
  }
 ],
 "metadata": {
  "kernelspec": {
   "display_name": "Python 3",
   "language": "python",
   "name": "python3"
  },
  "language_info": {
   "codemirror_mode": {
    "name": "ipython",
    "version": 2
   },
   "file_extension": ".py",
   "mimetype": "text/x-python",
   "name": "python",
   "nbconvert_exporter": "python",
   "pygments_lexer": "ipython2",
   "version": "2.7.6"
  }
 },
 "nbformat": 4,
 "nbformat_minor": 5
}
