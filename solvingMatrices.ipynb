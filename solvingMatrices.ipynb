{
 "cells": [
  {
   "metadata": {},
   "cell_type": "markdown",
   "source": [
    "Solving the next system of linear equations\n",
    "\n",
    "https://folk.ntnu.no/leifh/teaching/tkt4140/._main071.html\n",
    "https://www.youtube.com/watch?v=Xn35Ac_fGrA&ab_channel=KevinMooney\n",
    "\n",
    "$$\\begin{array}{llll}\n",
    "x_1 & + & x_2   & &     & = 1 \\\\\n",
    "    &  & x_2 & + & x_3 & = 4 \\\\\n",
    "x_1 & + & 2x_2 & + & 3x_3 & = 6\n",
    "\\end{array}$$\n",
    "\n",
    "$$\n",
    "\\left(\n",
    "\\begin{matrix}\n",
    "1 & 1 & 0 \\\\\n",
    "0 & 1 & 1 \\\\\n",
    "1 & 2 & 3\n",
    "\\end{matrix}\n",
    "\\right) \\left(\n",
    "\\begin{array}{c}\n",
    "x_1 \\\\\n",
    "x_2 \\\\\n",
    "x_3\n",
    "\\end{array} \\right) = \\left(\n",
    "\\begin{array}{c}\n",
    "1 \\\\\n",
    "4 \\\\\n",
    "6\n",
    "\\end{array} \\right).\n",
    "$$\n",
    "\n",
    "$$\n",
    "\\left(\n",
    "\\begin{array}{c}\n",
    "x_1 \\\\\n",
    "x_2 \\\\\n",
    "x_3\n",
    "\\end{array}\n",
    "\\right) = \\left(\n",
    "\\begin{matrix}\n",
    "1 & 1 & 0 \\\\\n",
    "0 & 1 & 1 \\\\\n",
    "1 & 2 & 3\n",
    "\\end{matrix}\n",
    "\\right)^{-1}\n",
    "\\left(\n",
    "\\begin{array}{c}\n",
    "1 \\\\\n",
    "4 \\\\\n",
    "6\n",
    "\\end{array} \\right).\n",
    "$$\n"
   ],
   "id": "4c9182ea366180c5"
  },
  {
   "metadata": {},
   "cell_type": "code",
   "outputs": [],
   "execution_count": null,
   "source": "import numpy as np",
   "id": "93852f6bbb12cf06"
  },
  {
   "cell_type": "code",
   "id": "initial_id",
   "metadata": {
    "collapsed": true,
    "ExecuteTime": {
     "end_time": "2024-06-22T15:38:27.498730Z",
     "start_time": "2024-06-22T15:38:27.495484Z"
    }
   },
   "source": [
    "# Solve the system of equations with the inverse of the square matrix approach\n",
    "A = np.array([[1,1,0],[0,1,1],[1,2,3]])\n",
    "y = np.array([1,4,6])\n",
    "y.shape = (3,1)\n",
    "a_inv = np.linalg.inv(A)\n",
    "x = np.matmul(a_inv, y)\n",
    "print(x)"
   ],
   "outputs": [
    {
     "name": "stdout",
     "output_type": "stream",
     "text": [
      "[[-2.5]\n",
      " [ 3.5]\n",
      " [ 0.5]]\n"
     ]
    }
   ],
   "execution_count": 3
  },
  {
   "metadata": {
    "ExecuteTime": {
     "end_time": "2024-06-22T15:40:15.244189Z",
     "start_time": "2024-06-22T15:40:15.240979Z"
    }
   },
   "cell_type": "code",
   "source": [
    "# solve with the np.lianlg solve method\n",
    "sol_x = np.linalg.solve(A,y)\n",
    "print(sol_x)"
   ],
   "id": "f9e38e010a17059b",
   "outputs": [
    {
     "name": "stdout",
     "output_type": "stream",
     "text": [
      "[[-2.5]\n",
      " [ 3.5]\n",
      " [ 0.5]]\n"
     ]
    }
   ],
   "execution_count": 4
  },
  {
   "metadata": {},
   "cell_type": "markdown",
   "source": "Sparce matrix aproach with simpy for computation efficiency",
   "id": "73520c49724ae17c"
  },
  {
   "metadata": {},
   "cell_type": "code",
   "outputs": [],
   "execution_count": null,
   "source": [
    "import scipy.sparse\n",
    "import scipy.sparse.linalg\n",
    "import matplotlib.pyplot as plt"
   ],
   "id": "a7d1f6bccc115dd4"
  },
  {
   "metadata": {},
   "cell_type": "code",
   "outputs": [],
   "execution_count": null,
   "source": "np.random.seed(0)",
   "id": "14792947e5271e54"
  }
 ],
 "metadata": {
  "kernelspec": {
   "display_name": "Python 3",
   "language": "python",
   "name": "python3"
  },
  "language_info": {
   "codemirror_mode": {
    "name": "ipython",
    "version": 2
   },
   "file_extension": ".py",
   "mimetype": "text/x-python",
   "name": "python",
   "nbconvert_exporter": "python",
   "pygments_lexer": "ipython2",
   "version": "2.7.6"
  }
 },
 "nbformat": 4,
 "nbformat_minor": 5
}
