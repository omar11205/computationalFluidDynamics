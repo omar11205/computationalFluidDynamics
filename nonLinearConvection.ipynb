{
 "cells": [
  {
   "metadata": {},
   "cell_type": "markdown",
   "source": [
    "CFD Sources:\n",
    "- https://github.com/emhayki/CFD-Fundamental/blob/main/CFD-Fundamental-Guide.pdf\n",
    "- https://github.com/barbagroup/CFDPython/blob/master/lessons/02_Step_2.ipynb\n",
    "\n",
    "\n",
    "Theory sources:\n",
    "- https://www.math.toronto.edu/jko/APM346_summary_2_2020.pdf\n",
    "- https://youtu.be/ec7L8wRABy4\n",
    "- https://folk.ntnu.no/leifh/teaching/tkt4140/._main042.html"
   ],
   "id": "c434c8f2a185308"
  },
  {
   "metadata": {},
   "cell_type": "markdown",
   "source": [
    "Using Eq. (4) of `1DLinearConvectionEquation` notebook\n",
    "\n",
    "$$\n",
    "\\frac{\\partial u}{\\partial t} + u \\frac{\\partial u}{\\partial x} = 0 \\tag{1}\n",
    "$$\n",
    "\n",
    "Instead of a constant factor c muntiplying the second term, now there is the solution u multiplying it. Thus, the second term of the equation is now nonlinear. We are going to use the same discretization scheme used with `1DLinearConvectionEquation` backward in space and forward in time.\n",
    "\n",
    "\n",
    "$$\n",
    "\\frac{u_i^{n+1}-u_i^n}{\\Delta t} + u_i^n \\frac{u_i^n-u_{i-1}^n}{\\Delta x} = 0 \n",
    "$$"
   ],
   "id": "ef46eb8b6d222d35"
  },
  {
   "metadata": {
    "ExecuteTime": {
     "end_time": "2024-06-29T16:53:38.858493Z",
     "start_time": "2024-06-29T16:53:38.347315Z"
    }
   },
   "cell_type": "code",
   "source": [
    "import numpy as np\n",
    "from matplotlib import pyplot as plt"
   ],
   "id": "1042e7f011265139",
   "outputs": [],
   "execution_count": 1
  },
  {
   "metadata": {},
   "cell_type": "code",
   "outputs": [],
   "execution_count": null,
   "source": [
    "total_x_length = 2\n",
    "number_grid_points_x = 41\n",
    "dx = total_x_length/(number_grid_points_x - 1)\n",
    "number_of_timesteps = 25\n",
    "dt = 0.025"
   ],
   "id": "fcf8333aea942b9b"
  },
  {
   "metadata": {},
   "cell_type": "code",
   "outputs": [],
   "execution_count": null,
   "source": [
    "# computational domain\n",
    "# starting with numpy ones\n",
    "u = np.ones(number_grid_points_x)\n",
    "\n",
    "# the elements of the initial conditions np.array u will be 2 between 0.5 and 1 [0.5,1] and 1 everywhere else in [0,2]\n",
    "u[int(0.5/dx):int(1/dx+1)] = 2\n",
    "print(u)"
   ],
   "id": "65ba9e7cc01edd0e"
  },
  {
   "metadata": {},
   "cell_type": "code",
   "outputs": [],
   "execution_count": null,
   "source": "# plotting the velocity profile in the space at t = 0 ",
   "id": "7c4283d4a48ce38c"
  },
  {
   "metadata": {},
   "cell_type": "code",
   "outputs": [],
   "execution_count": null,
   "source": [
    "# defining a results matrix\n",
    "rows = number_grid_points_x\n",
    "columns = number_of_timesteps\n",
    "results = np.empty((rows, columns))"
   ],
   "id": "aadb81a61cca6dca"
  }
 ],
 "metadata": {
  "kernelspec": {
   "display_name": "Python 3",
   "language": "python",
   "name": "python3"
  },
  "language_info": {
   "codemirror_mode": {
    "name": "ipython",
    "version": 2
   },
   "file_extension": ".py",
   "mimetype": "text/x-python",
   "name": "python",
   "nbconvert_exporter": "python",
   "pygments_lexer": "ipython2",
   "version": "2.7.6"
  }
 },
 "nbformat": 4,
 "nbformat_minor": 5
}
