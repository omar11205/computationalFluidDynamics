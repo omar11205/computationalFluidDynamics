{
 "cells": [
  {
   "metadata": {},
   "cell_type": "markdown",
   "source": [
    "CFD Sources:\n",
    "- https://github.com/emhayki/CFD-Fundamental/blob/main/CFD-Fundamental-Guide.pdf\n",
    "- https://github.com/barbagroup/CFDPython/blob/master/lessons/01_Step_1.ipynb\n",
    "\n",
    "\n",
    "Theory sources:\n",
    "- https://www.math.toronto.edu/jko/APM346_summary_2_2020.pdf\n",
    "- https://youtu.be/ec7L8wRABy4"
   ],
   "id": "c434c8f2a185308"
  },
  {
   "metadata": {},
   "cell_type": "markdown",
   "source": [
    "Using Eq. (4) of 1DLinearConvectionEquation notebook\n",
    "\n",
    "$$\n",
    "\\frac{\\partial u}{\\partial t} + u \\frac{\\partial u}{\\partial x} = 0 \\tag{4}\n",
    "$$\n",
    "\n",
    "Instead a constant factor c muntiplying the second term, now we have "
   ],
   "id": "ef46eb8b6d222d35"
  }
 ],
 "metadata": {
  "kernelspec": {
   "display_name": "Python 3",
   "language": "python",
   "name": "python3"
  },
  "language_info": {
   "codemirror_mode": {
    "name": "ipython",
    "version": 2
   },
   "file_extension": ".py",
   "mimetype": "text/x-python",
   "name": "python",
   "nbconvert_exporter": "python",
   "pygments_lexer": "ipython2",
   "version": "2.7.6"
  }
 },
 "nbformat": 4,
 "nbformat_minor": 5
}
